{
 "cells": [
  {
   "cell_type": "markdown",
   "id": "1e068266",
   "metadata": {},
   "source": [
    "# Sentence semantics with NLTK"
   ]
  },
  {
   "cell_type": "markdown",
   "id": "f2317805",
   "metadata": {},
   "source": [
    "## I. Thematic relations\n",
    "\n",
    "### I.1. FrameNet\n",
    "\n",
    "https://www.nltk.org/howto/framenet.html "
   ]
  },
  {
   "cell_type": "code",
   "execution_count": 1,
   "id": "8c53655b",
   "metadata": {},
   "outputs": [
    {
     "data": {
      "text/plain": [
       "<FramenetCorpusReader in '/home/kariminf/Data/NLTK/corpora/framenet_v17'>"
      ]
     },
     "execution_count": 1,
     "metadata": {},
     "output_type": "execute_result"
    }
   ],
   "source": [
    "from nltk.corpus import framenet as fn\n",
    "\n",
    "fn"
   ]
  },
  {
   "cell_type": "code",
   "execution_count": 2,
   "id": "c8258f92",
   "metadata": {},
   "outputs": [
    {
     "data": {
      "text/plain": [
       "1221"
      ]
     },
     "execution_count": 2,
     "metadata": {},
     "output_type": "execute_result"
    }
   ],
   "source": [
    "# get all frames\n",
    "len(fn.frames())"
   ]
  },
  {
   "cell_type": "code",
   "execution_count": 3,
   "id": "f6cb86a2",
   "metadata": {},
   "outputs": [
    {
     "data": {
      "text/plain": [
       "13572"
      ]
     },
     "execution_count": 3,
     "metadata": {},
     "output_type": "execute_result"
    }
   ],
   "source": [
    "# get all lexical units\n",
    "len(fn.lus())"
   ]
  },
  {
   "cell_type": "code",
   "execution_count": 4,
   "id": "9c75731e",
   "metadata": {},
   "outputs": [
    {
     "data": {
      "text/plain": [
       "[<frame ID=239 name=Medical_conditions>, <frame ID=257 name=Medical_instruments>, ...]"
      ]
     },
     "execution_count": 4,
     "metadata": {},
     "output_type": "execute_result"
    }
   ],
   "source": [
    "# get frames by approximate name\n",
    "fn.frames(r'(?i)medical')"
   ]
  },
  {
   "cell_type": "code",
   "execution_count": 5,
   "id": "728508fe",
   "metadata": {},
   "outputs": [
    {
     "data": {
      "text/plain": [
       "frame (414): Cause_to_fragment\n",
       "\n",
       "[URL] https://framenet2.icsi.berkeley.edu/fnReports/data/frame/Cause_to_fragment.xml\n",
       "\n",
       "[definition]\n",
       "  An Agent suddenly and often violently separates the Whole_patient\n",
       "  into two or more smaller Pieces, resulting in the Whole_patient\n",
       "  no longer existing as such.  Several lexical items are marked\n",
       "  with the semantic type Negative, which indicates that the\n",
       "  fragmentation is necessarily judged as injurious to the original\n",
       "  Whole_patient.  Compare this frame with Damaging, Render_non-\n",
       "  functional, and Removing.  'He ripped up the letter faster than\n",
       "  you can say \"Jack Robbins\". INI' 'Don't go in there or you 'll be\n",
       "  torn to bits! CNI' 'She shattered the vase with a casual backhand\n",
       "  blow to make it look like there had been a struggle. INI' 'Tear\n",
       "  into 6\" strips, each about one inch wide, then bake at 400. CNI\n",
       "  CNI'\n",
       "\n",
       "[semTypes] 0 semantic types\n",
       "\n",
       "[frameRelations] 3 frame relations\n",
       "  <Parent=Transitive_action -- Inheritance -> Child=Cause_to_fragment>\n",
       "  <Parent=Destroying -- Using -> Child=Cause_to_fragment>\n",
       "  <Causative=Cause_to_fragment -- Causative_of -> Inchoative/state=Breaking_apart>\n",
       "\n",
       "[lexUnit] 25 lexical units\n",
       "  break apart.v (12089), break down.v (12091), break up.v (12090),\n",
       "  break.v (7581), chip.v (12092), cleave.v (7592), dissect.v\n",
       "  (12093), dissolve.v (12094), fracture.v (7578), fragment.v\n",
       "  (7584), rend.v (7579), rip up.v (7591), rip.v (7588), rive.v\n",
       "  (12095), shatter.v (7585), shiver.v (7582), shred.v (7587),\n",
       "  sliver.v (12096), smash.v (7586), snap.v (7580), splinter.v\n",
       "  (7583), split.v (12097), take apart.v (12098), tear up.v (7593),\n",
       "  tear.v (7589)\n",
       "\n",
       "\n",
       "[FE] 15 frame elements\n",
       "            Core: Agent (3802), Cause (9819), Pieces (3812), Whole_patient (3806)\n",
       "      Peripheral: Degree (3813), Instrument (3803), Manner (3804), Means (3805), Place (3807), Resistant_surface (3836), Time (3810)\n",
       "  Extra-Thematic: Explanation (3809), Purpose (3808), Result (3835), Subregion (3834)\n",
       "\n",
       "[FEcoreSets] 0 frame element core sets\n",
       "  "
      ]
     },
     "execution_count": 5,
     "metadata": {},
     "output_type": "execute_result"
    }
   ],
   "source": [
    "frame_ctf = fn.frames('Cause_to_fragment')[0]\n",
    "\n",
    "frame_ctf"
   ]
  },
  {
   "cell_type": "code",
   "execution_count": 6,
   "id": "13f052e6",
   "metadata": {},
   "outputs": [
    {
     "data": {
      "text/plain": [
       "'An Agent suddenly and often violently separates the Whole_patient into two or more smaller Pieces, resulting in the Whole_patient no longer existing as such.  Several lexical items are marked with the semantic type Negative, which indicates that the fragmentation is necessarily judged as injurious to the original Whole_patient.  Compare this frame with Damaging, Render_non-functional, and Removing.  \\'He ripped up the letter faster than you can say \"Jack Robbins\". INI\\' \\'Don\\'t go in there or you \\'ll be torn to bits! CNI\\' \\'She shattered the vase with a casual backhand blow to make it look like there had been a struggle. INI\\' \\'Tear into 6\" strips, each about one inch wide, then bake at 400. CNI CNI\\''"
      ]
     },
     "execution_count": 6,
     "metadata": {},
     "output_type": "execute_result"
    }
   ],
   "source": [
    "frame_ctf.definition"
   ]
  },
  {
   "cell_type": "code",
   "execution_count": 7,
   "id": "0d3b4825",
   "metadata": {},
   "outputs": [
    {
     "data": {
      "text/plain": [
       "[]"
      ]
     },
     "execution_count": 7,
     "metadata": {},
     "output_type": "execute_result"
    }
   ],
   "source": [
    "frame_ctf.semTypes"
   ]
  },
  {
   "cell_type": "code",
   "execution_count": 8,
   "id": "cea0d931",
   "metadata": {},
   "outputs": [
    {
     "data": {
      "text/plain": [
       "[<Parent=Transitive_action -- Inheritance -> Child=Cause_to_fragment>, <Parent=Destroying -- Using -> Child=Cause_to_fragment>, ...]"
      ]
     },
     "execution_count": 8,
     "metadata": {},
     "output_type": "execute_result"
    }
   ],
   "source": [
    "frame_ctf.frameRelations"
   ]
  },
  {
   "cell_type": "code",
   "execution_count": 9,
   "id": "38d2377f",
   "metadata": {},
   "outputs": [
    {
     "data": {
      "text/plain": [
       "{'break apart.v': <lu ID=12089 name=break apart.v>, 'break down.v': <lu ID=12091 name=break down.v>, 'break up.v': <lu ID=12090 name=break up.v>, 'break.v': <lu ID=7581 name=break.v>, 'chip.v': <lu ID=12092 name=chip.v>, 'cleave.v': <lu ID=7592 name=cleave.v>, 'dissect.v': <lu ID=12093 name=dissect.v>, 'dissolve.v': <lu ID=12094 name=dissolve.v>, 'fracture.v': <lu ID=7578 name=fracture.v>, 'fragment.v': <lu ID=7584 name=fragment.v>, 'rend.v': <lu ID=7579 name=rend.v>, 'rip up.v': <lu ID=7591 name=rip up.v>, 'rip.v': <lu ID=7588 name=rip.v>, 'rive.v': <lu ID=12095 name=rive.v>, 'shatter.v': <lu ID=7585 name=shatter.v>, 'shiver.v': <lu ID=7582 name=shiver.v>, 'shred.v': <lu ID=7587 name=shred.v>, 'sliver.v': <lu ID=12096 name=sliver.v>, 'smash.v': <lu ID=7586 name=smash.v>, 'snap.v': <lu ID=7580 name=snap.v>, 'splinter.v': <lu ID=7583 name=splinter.v>, 'split.v': <lu ID=12097 name=split.v>, 'take apart.v': <lu ID=12098 name=take apart.v>, 'tear up.v': <lu ID=7593 name=tear up.v>, 'tear.v': <lu ID=7589 name=tear.v>}"
      ]
     },
     "execution_count": 9,
     "metadata": {},
     "output_type": "execute_result"
    }
   ],
   "source": [
    "frame_ctf.lexUnit"
   ]
  },
  {
   "cell_type": "code",
   "execution_count": 10,
   "id": "7cdf790d",
   "metadata": {},
   "outputs": [
    {
     "data": {
      "text/plain": [
       "{'Agent': <fe ID=3802 name=Agent>, 'Cause': <fe ID=9819 name=Cause>, 'Degree': <fe ID=3813 name=Degree>, 'Explanation': <fe ID=3809 name=Explanation>, 'Instrument': <fe ID=3803 name=Instrument>, 'Manner': <fe ID=3804 name=Manner>, 'Means': <fe ID=3805 name=Means>, 'Pieces': <fe ID=3812 name=Pieces>, 'Place': <fe ID=3807 name=Place>, 'Purpose': <fe ID=3808 name=Purpose>, 'Resistant_surface': <fe ID=3836 name=Resistant_surface>, 'Result': <fe ID=3835 name=Result>, 'Subregion': <fe ID=3834 name=Subregion>, 'Time': <fe ID=3810 name=Time>, 'Whole_patient': <fe ID=3806 name=Whole_patient>}"
      ]
     },
     "execution_count": 10,
     "metadata": {},
     "output_type": "execute_result"
    }
   ],
   "source": [
    "frame_ctf.FE"
   ]
  },
  {
   "cell_type": "code",
   "execution_count": 11,
   "id": "3dd5b5e0",
   "metadata": {},
   "outputs": [
    {
     "data": {
      "text/plain": [
       "lexical unit (12): duplicate.v\n",
       "\n",
       "[definition]\n",
       "  COD: make or be an exact copy of.\n",
       "\n",
       "[frame] Duplication(11)\n",
       "\n",
       "[POS] V\n",
       "\n",
       "[status] FN1_Sent\n",
       "\n",
       "[lexemes] duplicate/V\n",
       "\n",
       "[semTypes] 0 semantic types\n",
       "\n",
       "[URL] https://framenet2.icsi.berkeley.edu/fnReports/data/lu/lu12.xml\n",
       "\n",
       "[subCorpus] 9 subcorpora\n",
       "  V-670-pass-by, V-680-pass, V-730-ppby, V-730-ppfrom,\n",
       "  V-730-ppin, V-780-ppother, V-810-pother, V-890-intrans-\n",
       "  adverb, V-900-other\n",
       "\n",
       "[exemplars] 9 sentences across all subcorpora"
      ]
     },
     "execution_count": 11,
     "metadata": {},
     "output_type": "execute_result"
    }
   ],
   "source": [
    "fn.lu(12)"
   ]
  },
  {
   "cell_type": "code",
   "execution_count": 12,
   "id": "aec5d88b",
   "metadata": {},
   "outputs": [
    {
     "data": {
      "text/plain": [
       "[<lu ID=12089 name=break apart.v>, <lu ID=13696 name=break apart.v>, ...]"
      ]
     },
     "execution_count": 12,
     "metadata": {},
     "output_type": "execute_result"
    }
   ],
   "source": [
    "break_lus = fn.lus('break')\n",
    "break_lus"
   ]
  },
  {
   "cell_type": "code",
   "execution_count": 13,
   "id": "33b132e4",
   "metadata": {},
   "outputs": [
    {
     "data": {
      "text/plain": [
       "lexical unit (7581): break.v\n",
       "\n",
       "[definition]\n",
       "  FN: cause to suddenly separate into pieces in a destructive\n",
       "  manner.\n",
       "\n",
       "[frame] Cause_to_fragment(414)\n",
       "\n",
       "[POS] V\n",
       "\n",
       "[status] Finished_Initial\n",
       "\n",
       "[lexemes] break/V\n",
       "\n",
       "[semTypes] 0 semantic types\n",
       "\n",
       "[URL] https://framenet2.icsi.berkeley.edu/fnReports/data/lu/lu7581.xml\n",
       "\n",
       "[subCorpus] 38 subcorpora\n",
       "  V-429-s20-rcoll-bread, V-429-s20-rcoll-chain,\n",
       "  V-429-s20-rcoll-door, V-429-s20-rcoll-egg, V-429-s20-rcoll-\n",
       "  ice, V-429-s20-rcoll-mould, V-429-s20-rcoll-open,\n",
       "  V-429-s20-rcoll-seal, V-429-s20-rcoll-window, V-520-s20-np-\n",
       "  vping, V-530-s20-np-vpto, V-550-s20-np-np, V-570-s20-np-\n",
       "  ppinto, V-570-s20-np-ppon, V-570-s20-np-ppover,\n",
       "  V-570-s20-np-ppto, V-570-s20-np-ppwith, V-590-s20-np-pingby,\n",
       "  V-620-s20-np-ppother, V-630-s20-np-pingother, V-650-s20-np-\n",
       "  pother, V-660-s20-trans-simple, V-670-s20-pass-by,\n",
       "  V-680-s20-pass, V-690-s20-trans-other, V-730-s20-ppinto,\n",
       "  V-730-s20-ppon, V-730-s20-ppover, V-730-s20-ppto,\n",
       "  V-730-s20-ppwith, V-750-s20-pingby, V-780-s20-ppother,\n",
       "  V-790-s20-pingother, V-810-s20-pother, V-880-s20-intrans-\n",
       "  simple, V-890-s20-intrans-adverb, V-900-s20-other, manually-\n",
       "  added\n",
       "\n",
       "[exemplars] 34 sentences across all subcorpora"
      ]
     },
     "execution_count": 13,
     "metadata": {},
     "output_type": "execute_result"
    }
   ],
   "source": [
    "# From all lexiacl units of \"Cause to ragment\" frame, get the verb \"break\"\n",
    "ctf_break_v = frame_ctf.lexUnit['break.v']\n",
    "ctf_break_v"
   ]
  },
  {
   "cell_type": "code",
   "execution_count": 14,
   "id": "9992f9da",
   "metadata": {},
   "outputs": [
    {
     "data": {
      "text/plain": [
       "'break.v'"
      ]
     },
     "execution_count": 14,
     "metadata": {},
     "output_type": "execute_result"
    }
   ],
   "source": [
    "ctf_break_v.name"
   ]
  },
  {
   "cell_type": "code",
   "execution_count": 15,
   "id": "4b37e1eb",
   "metadata": {},
   "outputs": [
    {
     "data": {
      "text/plain": [
       "'FN: cause to suddenly separate into pieces in a destructive manner.'"
      ]
     },
     "execution_count": 15,
     "metadata": {},
     "output_type": "execute_result"
    }
   ],
   "source": [
    "ctf_break_v.definition"
   ]
  },
  {
   "cell_type": "code",
   "execution_count": 16,
   "id": "726ccf5b",
   "metadata": {},
   "outputs": [
    {
     "data": {
      "text/plain": [
       "frame (414): Cause_to_fragment\n",
       "\n",
       "[URL] https://framenet2.icsi.berkeley.edu/fnReports/data/frame/Cause_to_fragment.xml\n",
       "\n",
       "[definition]\n",
       "  An Agent suddenly and often violently separates the Whole_patient\n",
       "  into two or more smaller Pieces, resulting in the Whole_patient\n",
       "  no longer existing as such.  Several lexical items are marked\n",
       "  with the semantic type Negative, which indicates that the\n",
       "  fragmentation is necessarily judged as injurious to the original\n",
       "  Whole_patient.  Compare this frame with Damaging, Render_non-\n",
       "  functional, and Removing.  'He ripped up the letter faster than\n",
       "  you can say \"Jack Robbins\". INI' 'Don't go in there or you 'll be\n",
       "  torn to bits! CNI' 'She shattered the vase with a casual backhand\n",
       "  blow to make it look like there had been a struggle. INI' 'Tear\n",
       "  into 6\" strips, each about one inch wide, then bake at 400. CNI\n",
       "  CNI'\n",
       "\n",
       "[semTypes] 0 semantic types\n",
       "\n",
       "[frameRelations] 3 frame relations\n",
       "  <Parent=Transitive_action -- Inheritance -> Child=Cause_to_fragment>\n",
       "  <Parent=Destroying -- Using -> Child=Cause_to_fragment>\n",
       "  <Causative=Cause_to_fragment -- Causative_of -> Inchoative/state=Breaking_apart>\n",
       "\n",
       "[lexUnit] 25 lexical units\n",
       "  break apart.v (12089), break down.v (12091), break up.v (12090),\n",
       "  break.v (7581), chip.v (12092), cleave.v (7592), dissect.v\n",
       "  (12093), dissolve.v (12094), fracture.v (7578), fragment.v\n",
       "  (7584), rend.v (7579), rip up.v (7591), rip.v (7588), rive.v\n",
       "  (12095), shatter.v (7585), shiver.v (7582), shred.v (7587),\n",
       "  sliver.v (12096), smash.v (7586), snap.v (7580), splinter.v\n",
       "  (7583), split.v (12097), take apart.v (12098), tear up.v (7593),\n",
       "  tear.v (7589)\n",
       "\n",
       "\n",
       "[FE] 15 frame elements\n",
       "            Core: Agent (3802), Cause (9819), Pieces (3812), Whole_patient (3806)\n",
       "      Peripheral: Degree (3813), Instrument (3803), Manner (3804), Means (3805), Place (3807), Resistant_surface (3836), Time (3810)\n",
       "  Extra-Thematic: Explanation (3809), Purpose (3808), Result (3835), Subregion (3834)\n",
       "\n",
       "[FEcoreSets] 0 frame element core sets\n",
       "  "
      ]
     },
     "execution_count": 16,
     "metadata": {},
     "output_type": "execute_result"
    }
   ],
   "source": [
    "ctf_break_v.frame"
   ]
  },
  {
   "cell_type": "code",
   "execution_count": 17,
   "id": "b9e9fde1",
   "metadata": {},
   "outputs": [
    {
     "data": {
      "text/plain": [
       "'V'"
      ]
     },
     "execution_count": 17,
     "metadata": {},
     "output_type": "execute_result"
    }
   ],
   "source": [
    "ctf_break_v.POS"
   ]
  },
  {
   "cell_type": "code",
   "execution_count": 18,
   "id": "89f9fbc8",
   "metadata": {},
   "outputs": [],
   "source": [
    "# valence patterns are not currently supported."
   ]
  },
  {
   "cell_type": "markdown",
   "id": "28e8be50",
   "metadata": {},
   "source": [
    "### I.2. PropBank\n",
    "\n",
    "https://www.nltk.org/howto/propbank.html"
   ]
  },
  {
   "cell_type": "code",
   "execution_count": 19,
   "id": "afb3524f",
   "metadata": {},
   "outputs": [
    {
     "data": {
      "text/plain": [
       "<PropbankCorpusReader in '/home/kariminf/Data/NLTK/corpora/propbank'>"
      ]
     },
     "execution_count": 19,
     "metadata": {},
     "output_type": "execute_result"
    }
   ],
   "source": [
    "from nltk.corpus import propbank as pb\n",
    "\n",
    "pb"
   ]
  },
  {
   "cell_type": "code",
   "execution_count": 22,
   "id": "bcf12eba",
   "metadata": {},
   "outputs": [
    {
     "data": {
      "text/plain": [
       "[<PropbankInstance: wsj_0001.mrg, sent 0, word 8>, <PropbankInstance: wsj_0001.mrg, sent 1, word 10>, ...]"
      ]
     },
     "execution_count": 22,
     "metadata": {},
     "output_type": "execute_result"
    }
   ],
   "source": [
    "pb_instances = pb.instances()\n",
    "pb_instances"
   ]
  },
  {
   "cell_type": "code",
   "execution_count": 24,
   "id": "becd99d1",
   "metadata": {},
   "outputs": [
    {
     "data": {
      "text/plain": [
       "<Element 'roleset' at 0x7f0340786090>"
      ]
     },
     "execution_count": 24,
     "metadata": {},
     "output_type": "execute_result"
    }
   ],
   "source": [
    "know_01 = pb.roleset('know.01')\n",
    "know_01"
   ]
  },
  {
   "cell_type": "code",
   "execution_count": 27,
   "id": "10bcfd4e",
   "metadata": {},
   "outputs": [
    {
     "data": {
      "text/plain": [
       "['id', 'name', 'vncls']"
      ]
     },
     "execution_count": 27,
     "metadata": {},
     "output_type": "execute_result"
    }
   ],
   "source": [
    "know_01.keys()"
   ]
  },
  {
   "cell_type": "code",
   "execution_count": 29,
   "id": "ac27d691",
   "metadata": {},
   "outputs": [
    {
     "data": {
      "text/plain": [
       "'know.01'"
      ]
     },
     "execution_count": 29,
     "metadata": {},
     "output_type": "execute_result"
    }
   ],
   "source": [
    "know_01.get('id')"
   ]
  },
  {
   "cell_type": "code",
   "execution_count": 30,
   "id": "65e99f9a",
   "metadata": {},
   "outputs": [
    {
     "data": {
      "text/plain": [
       "'understand'"
      ]
     },
     "execution_count": 30,
     "metadata": {},
     "output_type": "execute_result"
    }
   ],
   "source": [
    "know_01.get('name')"
   ]
  },
  {
   "cell_type": "code",
   "execution_count": 31,
   "id": "e36a7e01",
   "metadata": {},
   "outputs": [
    {
     "data": {
      "text/plain": [
       "'29.5'"
      ]
     },
     "execution_count": 31,
     "metadata": {},
     "output_type": "execute_result"
    }
   ],
   "source": [
    "know_01.get('vncls')"
   ]
  },
  {
   "cell_type": "code",
   "execution_count": 32,
   "id": "296b1b14",
   "metadata": {},
   "outputs": [
    {
     "name": "stdout",
     "output_type": "stream",
     "text": [
      "0 knower\n",
      "1 thing known or thought\n",
      "2 attribute of arg1\n"
     ]
    }
   ],
   "source": [
    "for role in know_01.findall(\"roles/role\"):\n",
    "    print(role.attrib['n'], role.attrib['descr'])"
   ]
  },
  {
   "cell_type": "code",
   "execution_count": 35,
   "id": "89172814",
   "metadata": {},
   "outputs": [
    {
     "data": {
      "text/plain": [
       "b'<example name=\"just transitive\">\\n  <text>\\n    I need to know the aircraft and flight number.\\n  </text>\\n  <arg n=\"0\">I</arg>\\n  <rel>need to know</rel>\\n  <arg n=\"1\">the aircraft and flight number</arg>\\n</example>\\n\\n'"
      ]
     },
     "execution_count": 35,
     "metadata": {},
     "output_type": "execute_result"
    }
   ],
   "source": [
    "from xml.etree import ElementTree\n",
    "\n",
    "know_01_exp = know_01.find('example')\n",
    "ElementTree.tostring(know_01_exp)"
   ]
  },
  {
   "cell_type": "markdown",
   "id": "61c217c1",
   "metadata": {},
   "source": [
    "### I.3. VerbNet\n",
    "\n",
    "https://www.nltk.org/howto/corpus.html#verbnet-corpus-reader"
   ]
  },
  {
   "cell_type": "code",
   "execution_count": 36,
   "id": "2a2d7c0d",
   "metadata": {},
   "outputs": [
    {
     "data": {
      "text/plain": [
       "(3621, 4953, 429)"
      ]
     },
     "execution_count": 36,
     "metadata": {},
     "output_type": "execute_result"
    }
   ],
   "source": [
    "from nltk.corpus import verbnet\n",
    "\n",
    "len(verbnet.lemmas()), len(verbnet.wordnetids()), len(verbnet.classids())"
   ]
  },
  {
   "cell_type": "code",
   "execution_count": 37,
   "id": "c650bfeb",
   "metadata": {},
   "outputs": [
    {
     "data": {
      "text/plain": [
       "['bring-11.3',\n",
       " 'characterize-29.2',\n",
       " 'convert-26.6.2',\n",
       " 'cost-54.2',\n",
       " 'fit-54.3',\n",
       " 'performance-26.7-2',\n",
       " 'steal-10.5']"
      ]
     },
     "execution_count": 37,
     "metadata": {},
     "output_type": "execute_result"
    }
   ],
   "source": [
    "verbnet.classids(lemma='take')"
   ]
  },
  {
   "cell_type": "markdown",
   "id": "1bb61ead",
   "metadata": {},
   "source": [
    "## II. Propositional Logic\n",
    "\n",
    "https://www.nltk.org/book/ch10.html"
   ]
  },
  {
   "cell_type": "code",
   "execution_count": null,
   "id": "9f784e6d",
   "metadata": {},
   "outputs": [],
   "source": []
  },
  {
   "cell_type": "code",
   "execution_count": 20,
   "id": "616af20b",
   "metadata": {},
   "outputs": [
    {
     "data": {
      "text/plain": [
       "'3.6.2'"
      ]
     },
     "execution_count": 20,
     "metadata": {},
     "output_type": "execute_result"
    }
   ],
   "source": []
  },
  {
   "cell_type": "code",
   "execution_count": null,
   "id": "97f6a8d8",
   "metadata": {},
   "outputs": [],
   "source": []
  }
 ],
 "metadata": {
  "kernelspec": {
   "display_name": "Python 3",
   "language": "python",
   "name": "python3"
  },
  "language_info": {
   "codemirror_mode": {
    "name": "ipython",
    "version": 3
   },
   "file_extension": ".py",
   "mimetype": "text/x-python",
   "name": "python",
   "nbconvert_exporter": "python",
   "pygments_lexer": "ipython3",
   "version": "3.8.10"
  }
 },
 "nbformat": 4,
 "nbformat_minor": 5
}
