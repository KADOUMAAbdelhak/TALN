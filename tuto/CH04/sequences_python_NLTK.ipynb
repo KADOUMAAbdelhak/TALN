{
 "cells": [
  {
   "cell_type": "markdown",
   "id": "2a477add",
   "metadata": {},
   "source": [
    "# Sequences tagging using NLTK"
   ]
  },
  {
   "cell_type": "code",
   "execution_count": 1,
   "id": "3461c93b",
   "metadata": {},
   "outputs": [
    {
     "name": "stdout",
     "output_type": "stream",
     "text": [
      "['Karim', 'bought', 'a', 'Lenovo', 'computer', 'with', 'over', '70000', 'DZD', 'when', 'he', 'was', 'in', 'Algiers', ',', 'Algeria', '.']\n",
      "['Karim', 'a', 'acheté', 'un', 'ordinateur', 'de', 'mark', 'Lenovo', '.']\n"
     ]
    }
   ],
   "source": [
    "import nltk\n",
    "from nltk import word_tokenize\n",
    "\n",
    "text = 'Karim bought a Lenovo computer with over 70000 DZD when he was in Algiers, Algeria.'\n",
    "text_fr = 'Karim a acheté un ordinateur de mark Lenovo.'\n",
    "\n",
    "text_tokens = word_tokenize(text)\n",
    "text_tokens_fr = word_tokenize(text_fr)\n",
    "\n",
    "print(text_tokens)\n",
    "print(text_tokens_fr)"
   ]
  },
  {
   "cell_type": "markdown",
   "id": "7805a397",
   "metadata": {},
   "source": [
    "## I. Part of Speech (PoS) tagging"
   ]
  },
  {
   "cell_type": "code",
   "execution_count": 2,
   "id": "77bb4ec1",
   "metadata": {},
   "outputs": [
    {
     "data": {
      "text/plain": [
       "[[('un', 'DET'),\n",
       "  ('ordianteur', 'NOUN'),\n",
       "  ('peut', 'VERB'),\n",
       "  ('vous', 'PRON'),\n",
       "  ('aider', 'VERB')],\n",
       " [('il', 'PRON'), ('veut', 'VERB'), ('vous', 'PRON'), ('aider', 'VERB')],\n",
       " [('il', 'PRON'), ('veut', 'VERB'), ('un', 'DET'), ('ordinateur', 'NOUN')],\n",
       " [('il', 'PRON'), ('peut', 'VERB'), ('nager', 'VERB')]]"
      ]
     },
     "execution_count": 2,
     "metadata": {},
     "output_type": "execute_result"
    }
   ],
   "source": [
    "from nltk.tag import str2tuple\n",
    "# will be used for training\n",
    "text_train_fr = [\n",
    "    'un/DET ordianteur/NOUN peut/VERB vous/PRON aider/VERB',\n",
    "    'il/PRON veut/VERB vous/PRON aider/VERB',\n",
    "    'il/PRON veut/VERB un/DET ordinateur/NOUN',\n",
    "    'il/PRON peut/VERB nager/VERB'\n",
    "]\n",
    "\n",
    "data_train_fr = [[str2tuple(mot) for mot in sentence.split()] for sentence in text_train_fr]\n",
    "    \n",
    "data_train_fr"
   ]
  },
  {
   "cell_type": "code",
   "execution_count": 3,
   "id": "b19eecaa",
   "metadata": {},
   "outputs": [
    {
     "data": {
      "text/plain": [
       "[['il', 'veut', 'nager'], ['un', 'enfant', 'peut', 'nager']]"
      ]
     },
     "execution_count": 3,
     "metadata": {},
     "output_type": "execute_result"
    }
   ],
   "source": [
    "data_gold_fr = [\n",
    "    [('il', 'PRON'), ('veut', 'VERB'), ('nager', 'VERB')],\n",
    "    [('un', 'DET'), ('enfant', 'NOUN'), ('peut', 'VERB'), ('nager', 'VERB')]\n",
    "]\n",
    "\n",
    "data_test_fr = []\n",
    "for senttag in data_gold_fr:\n",
    "    sent = []\n",
    "    data_test_fr.append(sent)\n",
    "    for wordtag in senttag:\n",
    "        sent.append(wordtag[0])\n",
    "\n",
    "data_test_fr"
   ]
  },
  {
   "cell_type": "markdown",
   "id": "d67bf685",
   "metadata": {},
   "source": [
    "### I.1. PoS prediction"
   ]
  },
  {
   "cell_type": "code",
   "execution_count": 4,
   "id": "10ab3c83",
   "metadata": {},
   "outputs": [
    {
     "data": {
      "text/plain": [
       "[('Karim', 'NNP'),\n",
       " ('bought', 'VBD'),\n",
       " ('a', 'DT'),\n",
       " ('Lenovo', 'NNP'),\n",
       " ('computer', 'NN'),\n",
       " ('with', 'IN'),\n",
       " ('over', 'IN'),\n",
       " ('70000', 'CD'),\n",
       " ('DZD', 'NNS'),\n",
       " ('when', 'WRB'),\n",
       " ('he', 'PRP'),\n",
       " ('was', 'VBD'),\n",
       " ('in', 'IN'),\n",
       " ('Algiers', 'NNP'),\n",
       " (',', ','),\n",
       " ('Algeria', 'NNP'),\n",
       " ('.', '.')]"
      ]
     },
     "execution_count": 4,
     "metadata": {},
     "output_type": "execute_result"
    }
   ],
   "source": [
    "from nltk import pos_tag\n",
    "\n",
    "pos_tags = pos_tag(text_tokens)\n",
    "\n",
    "pos_tags"
   ]
  },
  {
   "cell_type": "code",
   "execution_count": 5,
   "id": "daffa184",
   "metadata": {},
   "outputs": [],
   "source": [
    "# NotImplementedError: Currently, NLTK pos_tag only supports English and Russian (i.e. lang='eng' or lang='rus')\n",
    "#pos_tags_fr = pos_tag(text_tokens_fr, lang='fra')\n",
    "\n",
    "#pos_tags_fr"
   ]
  },
  {
   "cell_type": "markdown",
   "id": "4aa407e7",
   "metadata": {},
   "source": [
    "### I.2. PoS detection using RegEx "
   ]
  },
  {
   "cell_type": "code",
   "execution_count": 6,
   "id": "d06a6279",
   "metadata": {},
   "outputs": [
    {
     "data": {
      "text/plain": [
       "[('Karim', 'NN'),\n",
       " ('bought', 'NN'),\n",
       " ('a', 'NN'),\n",
       " ('Lenovo', 'NN'),\n",
       " ('computer', 'NN'),\n",
       " ('with', 'NN'),\n",
       " ('over', 'NN'),\n",
       " ('70000', 'CD'),\n",
       " ('DZD', 'NN'),\n",
       " ('when', 'NN'),\n",
       " ('he', 'NN'),\n",
       " ('was', 'NNS'),\n",
       " ('in', 'NN'),\n",
       " ('Algiers', 'NNS'),\n",
       " (',', 'NN'),\n",
       " ('Algeria', 'NN'),\n",
       " ('.', 'NN')]"
      ]
     },
     "execution_count": 6,
     "metadata": {},
     "output_type": "execute_result"
    }
   ],
   "source": [
    "from nltk.tag import RegexpTagger\n",
    "\n",
    "patterns = [\n",
    "    (r'.*ing$', 'VBG'),                # gerunds\n",
    "    (r'.*ed$', 'VBD'),                 # simple past\n",
    "    (r'.*es$', 'VBZ'),                 # 3rd singular present\n",
    "    (r'.*ould$', 'MD'),                # modals\n",
    "    (r'.*\\'s$', 'NN$'),                # possessive nouns\n",
    "    (r'.*s$', 'NNS'),                  # plural nouns\n",
    "    (r'^-?[0-9]+(\\.[0-9]+)?$', 'CD'),  # cardinal numbers\n",
    "    (r'.*', 'NN')                      # nouns (default)\n",
    "]\n",
    "\n",
    "regexp_tagger = RegexpTagger(patterns)\n",
    "\n",
    "\n",
    "pos_tags2 = regexp_tagger.tag(text_tokens)\n",
    "\n",
    "pos_tags2"
   ]
  },
  {
   "cell_type": "markdown",
   "id": "ce3284d4",
   "metadata": {},
   "source": [
    "### I.4. PoS training using CRF"
   ]
  },
  {
   "cell_type": "code",
   "execution_count": 7,
   "id": "f8333b07",
   "metadata": {},
   "outputs": [
    {
     "name": "stdout",
     "output_type": "stream",
     "text": [
      "Defaulting to user installation because normal site-packages is not writeable\n",
      "Requirement already satisfied: python-crfsuite in /home/kariminf/.local/lib/python3.8/site-packages (0.9.7)\n",
      "Note: you may need to restart the kernel to use updated packages.\n"
     ]
    }
   ],
   "source": [
    "%pip install python-crfsuite\n",
    "# NLTK uses an external tool for this\n",
    "# so, you have to install it first"
   ]
  },
  {
   "cell_type": "code",
   "execution_count": 8,
   "id": "c5deb50c",
   "metadata": {},
   "outputs": [
    {
     "data": {
      "text/plain": [
       "[[('il', 'PRON'), ('peut', 'VERB'), ('aider', 'VERB')],\n",
       " [('un', 'DET'), ('ordinateur', 'NOUN'), ('peut', 'VERB'), ('aider', 'VERB')]]"
      ]
     },
     "execution_count": 8,
     "metadata": {},
     "output_type": "execute_result"
    }
   ],
   "source": [
    "from nltk.tag import CRFTagger\n",
    "crf_tagger = CRFTagger()\n",
    "\n",
    "# you can change the location of saving\n",
    "crf_tagger_path = '/home/kariminf/Data/tutoriel/crf.tagger.fr'\n",
    "\n",
    "#to save the model\n",
    "crf_tagger.train(data_train_fr, crf_tagger_path)\n",
    "\n",
    "tagged_sents = crf_tagger.tag_sents([['il','peut','aider'], ['un','ordinateur','peut', 'aider']])\n",
    "\n",
    "tagged_sents"
   ]
  },
  {
   "cell_type": "code",
   "execution_count": 9,
   "id": "26e0c42f",
   "metadata": {
    "scrolled": true
   },
   "outputs": [
    {
     "data": {
      "text/plain": [
       "[('il', 'PRON'), ('veut', 'VERB'), ('nager', 'VERB')]"
      ]
     },
     "execution_count": 9,
     "metadata": {},
     "output_type": "execute_result"
    }
   ],
   "source": [
    "#charging the saved model\n",
    "crf_tagger_charged = CRFTagger()\n",
    "crf_tagger_charged.set_model_file(crf_tagger_path)\n",
    "\n",
    "# to tag one sentence\n",
    "crf_tagger_charged.tag(['il','veut','nager'])"
   ]
  },
  {
   "cell_type": "code",
   "execution_count": 10,
   "id": "771f4379",
   "metadata": {},
   "outputs": [
    {
     "name": "stdout",
     "output_type": "stream",
     "text": [
      "[[('il', 'PRON'), ('veut', 'VERB'), ('nager', 'VERB')], [('un', 'DET'), ('enfant', 'PRON'), ('peut', 'VERB'), ('nager', 'VERB')]]\n"
     ]
    },
    {
     "data": {
      "text/plain": [
       "0.8571428571428571"
      ]
     },
     "execution_count": 10,
     "metadata": {},
     "output_type": "execute_result"
    }
   ],
   "source": [
    "print(crf_tagger.tag_sents(data_test_fr))\n",
    "# accuracy\n",
    "crf_tagger.evaluate(data_gold_fr)"
   ]
  },
  {
   "cell_type": "markdown",
   "id": "bf944c54",
   "metadata": {},
   "source": [
    "### I.5. PoS training using HMM"
   ]
  },
  {
   "cell_type": "code",
   "execution_count": 11,
   "id": "48e548c7",
   "metadata": {},
   "outputs": [
    {
     "data": {
      "text/plain": [
       "[('il', 'PRON'), ('veut', 'VERB'), ('nager', 'VERB')]"
      ]
     },
     "execution_count": 11,
     "metadata": {},
     "output_type": "execute_result"
    }
   ],
   "source": [
    "from nltk.tag.hmm import HiddenMarkovModelTrainer\n",
    "\n",
    "hmm_tagger_trainer = HiddenMarkovModelTrainer()\n",
    "\n",
    "hmm_tagger = hmm_tagger_trainer.train_supervised(data_train_fr)\n",
    "\n",
    "hmm_tagger.tag(['il','veut','nager'])"
   ]
  },
  {
   "cell_type": "code",
   "execution_count": 12,
   "id": "981cafde",
   "metadata": {},
   "outputs": [
    {
     "name": "stdout",
     "output_type": "stream",
     "text": [
      "log probability:  -6e+300\n",
      "probability:  0.0\n",
      "point entropy:  [0. 0. 0.]\n",
      "Test: il/PRON veut/VERB nager/VERB\n",
      "\n",
      "Untagged: il veut nager\n",
      "\n",
      "HMM-tagged: il/PRON veut/VERB nager/VERB\n",
      "\n",
      "Entropy: 4.440892098500626e-16\n",
      "\n",
      "------------------------------------------------------------\n",
      "Test: un/DET enfant/NOUN peut/VERB nager/VERB\n",
      "\n",
      "Untagged: un enfant peut nager\n",
      "\n",
      "HMM-tagged: un/DET enfant/DET peut/DET nager/DET\n",
      "\n",
      "Entropy: 4.614709844115209\n",
      "\n",
      "------------------------------------------------------------\n",
      "accuracy over 7 tokens: 57.14\n"
     ]
    }
   ],
   "source": [
    "print(\"log probability: \", hmm_tagger.log_probability(['il','veut','nager']))\n",
    "print(\"probability: \", hmm_tagger.probability(['il','veut','nager']))\n",
    "print(\"point entropy: \", hmm_tagger.point_entropy(['il','veut','nager']))\n",
    "\n",
    "hmm_tagger.test(data_gold_fr, verbose=True)"
   ]
  },
  {
   "cell_type": "code",
   "execution_count": 13,
   "id": "f9355b65",
   "metadata": {},
   "outputs": [
    {
     "name": "stdout",
     "output_type": "stream",
     "text": [
      "[[('il', 'PRON'), ('veut', 'VERB'), ('nager', 'VERB')], [('un', 'DET'), ('enfant', 'DET'), ('peut', 'DET'), ('nager', 'DET')]]\n"
     ]
    },
    {
     "data": {
      "text/plain": [
       "0.5714285714285714"
      ]
     },
     "execution_count": 13,
     "metadata": {},
     "output_type": "execute_result"
    }
   ],
   "source": [
    "print(hmm_tagger.tag_sents(data_test_fr))\n",
    "# accuracy\n",
    "hmm_tagger.evaluate(data_gold_fr)"
   ]
  },
  {
   "cell_type": "markdown",
   "id": "dce451b8",
   "metadata": {},
   "source": [
    "### I.6. PoS training using PerceptronTagger"
   ]
  },
  {
   "cell_type": "code",
   "execution_count": 14,
   "id": "7a2d4178",
   "metadata": {},
   "outputs": [
    {
     "data": {
      "text/plain": [
       "[('Karim', 'NNP'),\n",
       " ('bought', 'VBD'),\n",
       " ('a', 'DT'),\n",
       " ('Lenovo', 'NNP'),\n",
       " ('computer', 'NN'),\n",
       " ('with', 'IN'),\n",
       " ('over', 'IN'),\n",
       " ('70000', 'CD'),\n",
       " ('DZD', 'NNS'),\n",
       " ('when', 'WRB'),\n",
       " ('he', 'PRP'),\n",
       " ('was', 'VBD'),\n",
       " ('in', 'IN'),\n",
       " ('Algiers', 'NNP'),\n",
       " (',', ','),\n",
       " ('Algeria', 'NNP'),\n",
       " ('.', '.')]"
      ]
     },
     "execution_count": 14,
     "metadata": {},
     "output_type": "execute_result"
    }
   ],
   "source": [
    "from nltk.tag.perceptron import PerceptronTagger\n",
    "\n",
    "# use a pretrained model for english\n",
    "pcpt_tagger_pre = PerceptronTagger()\n",
    "\n",
    "pcpt_tagger_pre.tag(text_tokens)"
   ]
  },
  {
   "cell_type": "code",
   "execution_count": 15,
   "id": "2842eb75",
   "metadata": {},
   "outputs": [
    {
     "data": {
      "text/plain": [
       "[[('il', 'PRON'), ('peut', 'VERB'), ('aider', 'VERB')],\n",
       " [('un', 'DET'), ('ordinateur', 'NOUN'), ('peut', 'VERB'), ('aider', 'VERB')]]"
      ]
     },
     "execution_count": 15,
     "metadata": {},
     "output_type": "execute_result"
    }
   ],
   "source": [
    "# create an empty model\n",
    "p_tagger = PerceptronTagger(load=False)\n",
    "p_tagger.train(data_train_fr)\n",
    "\n",
    "crf_tagger.tag_sents([['il','peut','aider'], ['un','ordinateur','peut', 'aider']])"
   ]
  },
  {
   "cell_type": "code",
   "execution_count": 16,
   "id": "3f31025b",
   "metadata": {},
   "outputs": [
    {
     "name": "stdout",
     "output_type": "stream",
     "text": [
      "[[('il', 'PRON'), ('veut', 'VERB'), ('nager', 'VERB')], [('un', 'DET'), ('enfant', 'PRON'), ('peut', 'VERB'), ('nager', 'VERB')]]\n"
     ]
    },
    {
     "data": {
      "text/plain": [
       "0.8571428571428571"
      ]
     },
     "execution_count": 16,
     "metadata": {},
     "output_type": "execute_result"
    }
   ],
   "source": [
    "print(crf_tagger.tag_sents(data_test_fr))\n",
    "# accuracy\n",
    "crf_tagger.evaluate(data_gold_fr)"
   ]
  },
  {
   "cell_type": "markdown",
   "id": "3e1fe03f",
   "metadata": {},
   "source": [
    "### I.7. PoS training using Brill"
   ]
  },
  {
   "cell_type": "code",
   "execution_count": 17,
   "id": "54c5eb7d",
   "metadata": {},
   "outputs": [
    {
     "name": "stdout",
     "output_type": "stream",
     "text": [
      "TBL train (fast) (seqs: 4; tokens: 16; tpls: 2; min score: 2; min acc: None)\n",
      "Finding initial useful rules...\n",
      "    Found 13 useful rules.\n",
      "\n",
      "           B      |\n",
      "   S   F   r   O  |        Score = Fixed - Broken\n",
      "   c   i   o   t  |  R     Fixed = num tags changed incorrect -> correct\n",
      "   o   x   k   h  |  u     Broken = num tags changed correct -> incorrect\n",
      "   r   e   e   e  |  l     Other = num tags changed incorrect -> incorrect\n",
      "   e   d   n   r  |  e\n",
      "------------------+-------------------------------------------------------\n",
      "   5   5   0   3  | NN->VERB if Pos:NN@[-1]\n",
      "   2   2   0   0  | NN->VERB if Pos:NNS@[-1]\n",
      "   2   2   0   0  | NNS->PRON if Pos:VERB@[-1]\n"
     ]
    }
   ],
   "source": [
    "from nltk.tag.brill_trainer import BrillTaggerTrainer\n",
    "from nltk.tbl.template import Template\n",
    "from nltk.tag.brill import Word, Pos\n",
    "\n",
    "#clear any templates created in earlier tests\n",
    "Template._cleartemplates() \n",
    "templates = [\n",
    "    Template(Pos([-1])), # previous PoS tag\n",
    "    Template(Pos([-1]), Word([0])) # previous Pos tag with current word\n",
    "]\n",
    "\n",
    "# we will use the regex ttagger previously presented\n",
    "# as a backoff tagger\n",
    "brill_tagger_trainer = BrillTaggerTrainer(regexp_tagger, templates, trace=3)\n",
    "\n",
    "brill_tagger = brill_tagger_trainer.train(data_train_fr, max_rules=10)"
   ]
  },
  {
   "cell_type": "code",
   "execution_count": 18,
   "id": "d713333a",
   "metadata": {},
   "outputs": [
    {
     "name": "stdout",
     "output_type": "stream",
     "text": [
      "[[('il', 'NN'), ('veut', 'VERB'), ('nager', 'VERB')], [('un', 'NN'), ('enfant', 'VERB'), ('peut', 'VERB'), ('nager', 'VERB')]]\n"
     ]
    },
    {
     "data": {
      "text/plain": [
       "0.5714285714285714"
      ]
     },
     "execution_count": 18,
     "metadata": {},
     "output_type": "execute_result"
    }
   ],
   "source": [
    "print(brill_tagger.tag_sents(data_test_fr))\n",
    "# accuracy\n",
    "brill_tagger.evaluate(data_gold_fr)"
   ]
  },
  {
   "cell_type": "markdown",
   "id": "1634e9cc",
   "metadata": {},
   "source": [
    "## II. Named Entity Recognition (NER)"
   ]
  },
  {
   "cell_type": "markdown",
   "id": "87f1cfbd",
   "metadata": {},
   "source": [
    "### II.1. Default NER chunker"
   ]
  },
  {
   "cell_type": "code",
   "execution_count": 19,
   "id": "82324e4f",
   "metadata": {
    "scrolled": true
   },
   "outputs": [
    {
     "name": "stdout",
     "output_type": "stream",
     "text": [
      "(S\n",
      "  (PERSON Karim/NNP)\n",
      "  bought/VBD\n",
      "  a/DT\n",
      "  (GPE Lenovo/NNP)\n",
      "  computer/NN\n",
      "  with/IN\n",
      "  over/IN\n",
      "  70000/CD\n",
      "  DZD/NNS\n",
      "  when/WRB\n",
      "  he/PRP\n",
      "  was/VBD\n",
      "  in/IN\n",
      "  (GPE Algiers/NNP)\n",
      "  ,/,\n",
      "  (GSP Algeria/NNP)\n",
      "  ./.)\n"
     ]
    },
    {
     "data": {
      "image/png": "[encoded data removed]",
      "text/plain": [
       "Tree('S', [Tree('PERSON', [('Karim', 'NNP')]), ('bought', 'VBD'), ('a', 'DT'), Tree('GPE', [('Lenovo', 'NNP')]), ('computer', 'NN'), ('with', 'IN'), ('over', 'IN'), ('70000', 'CD'), ('DZD', 'NNS'), ('when', 'WRB'), ('he', 'PRP'), ('was', 'VBD'), ('in', 'IN'), Tree('GPE', [('Algiers', 'NNP')]), (',', ','), Tree('GSP', [('Algeria', 'NNP')]), ('.', '.')])"
      ]
     },
     "execution_count": 19,
     "metadata": {},
     "output_type": "execute_result"
    }
   ],
   "source": [
    "from nltk.chunk import ne_chunk\n",
    "# from nltk.chunk import ne_chunk_sents\n",
    "ne_tags = ne_chunk(pos_tags)\n",
    "\n",
    "print(ne_tags)\n",
    "\n",
    "ne_tags"
   ]
  },
  {
   "cell_type": "markdown",
   "id": "a085d7bf",
   "metadata": {},
   "source": [
    "### II.2. Train a NER chunker"
   ]
  },
  {
   "cell_type": "code",
   "execution_count": 20,
   "id": "752a324e",
   "metadata": {},
   "outputs": [],
   "source": [
    "from nltk.chunk.named_entity import NEChunkParser\n",
    "\n",
    "# TODO  complete"
   ]
  },
  {
   "cell_type": "markdown",
   "id": "3b067eb3",
   "metadata": {},
   "source": [
    "## III. Chunking\n",
    "\n",
    "NLTK affords a mechanism to extract different parts of a text. \n",
    "For instance, we can extract Noun phrases from a text. \n",
    "This mechanism uses regular expressions on tagged text."
   ]
  },
  {
   "cell_type": "code",
   "execution_count": 21,
   "id": "0e693463",
   "metadata": {},
   "outputs": [
    {
     "name": "stdout",
     "output_type": "stream",
     "text": [
      "(S\n",
      "  (NP Karim/NNP)\n",
      "  bought/VBD\n",
      "  (NP a/DT Lenovo/NNP)\n",
      "  (NP computer/NN)\n",
      "  with/IN\n",
      "  over/IN\n",
      "  (NP 70000/CD DZD/NNS)\n",
      "  when/WRB\n",
      "  (NP he/PRP)\n",
      "  was/VBD\n",
      "  in/IN\n",
      "  (NP Algiers/NNP)\n",
      "  ,/,\n",
      "  (NP Algeria/NNP)\n",
      "  ./.)\n"
     ]
    },
    {
     "data": {
      "image/png": "[encoded data removed]",
      "text/plain": [
       "Tree('S', [Tree('NP', [('Karim', 'NNP')]), ('bought', 'VBD'), Tree('NP', [('a', 'DT'), ('Lenovo', 'NNP')]), Tree('NP', [('computer', 'NN')]), ('with', 'IN'), ('over', 'IN'), Tree('NP', [('70000', 'CD'), ('DZD', 'NNS')]), ('when', 'WRB'), Tree('NP', [('he', 'PRP')]), ('was', 'VBD'), ('in', 'IN'), Tree('NP', [('Algiers', 'NNP')]), (',', ','), Tree('NP', [('Algeria', 'NNP')]), ('.', '.')])"
      ]
     },
     "execution_count": 21,
     "metadata": {},
     "output_type": "execute_result"
    }
   ],
   "source": [
    "from nltk.chunk.regexp import RegexpParser\n",
    "\n",
    "grammar = r\"\"\"\n",
    "  NP: {<DT|PP\\$>?<JJ>*<NN>}   # chunk determiner/possessive, adjectives and noun\n",
    "      {<DT>?<NNP>+<NN>?}      # chunk sequences of proper nouns\n",
    "      {<CD><NNS>}             # chunk sequences of values followed by a measurement\n",
    "      {<PRP>}                 # chunk pronouns\n",
    "\"\"\"\n",
    "\n",
    "cp = RegexpParser(grammar)\n",
    "\n",
    "chunks = cp.parse(pos_tags)\n",
    "\n",
    "print(chunks)\n",
    "\n",
    "chunks"
   ]
  },
  {
   "cell_type": "code",
   "execution_count": 22,
   "id": "07d7697b",
   "metadata": {},
   "outputs": [
    {
     "name": "stdout",
     "output_type": "stream",
     "text": [
      "(NP Karim/NNP)\n",
      "(NP a/DT Lenovo/NNP)\n",
      "(NP computer/NN)\n",
      "(NP 70000/CD DZD/NNS)\n",
      "(NP he/PRP)\n",
      "(NP Algiers/NNP)\n",
      "(NP Algeria/NNP)\n"
     ]
    }
   ],
   "source": [
    "# texts are represented as trees after chunking\n",
    "# this is a code how to browse the chunks which are subtrees\n",
    "\n",
    "for subtree in chunks.subtrees():\n",
    "    if subtree.label() == 'NP': \n",
    "        print(subtree)"
   ]
  },
  {
   "cell_type": "code",
   "execution_count": 23,
   "id": "bf879d0f",
   "metadata": {},
   "outputs": [
    {
     "data": {
      "text/plain": [
       "[('Karim', 'B-NP'),\n",
       " ('bought', 'O'),\n",
       " ('a', 'B-NP'),\n",
       " ('Lenovo', 'I-NP'),\n",
       " ('computer', 'B-NP'),\n",
       " ('with', 'O'),\n",
       " ('over', 'O'),\n",
       " ('70000', 'B-NP'),\n",
       " ('DZD', 'I-NP'),\n",
       " ('when', 'O'),\n",
       " ('he', 'B-NP'),\n",
       " ('was', 'O'),\n",
       " ('in', 'O'),\n",
       " ('Algiers', 'B-NP'),\n",
       " (',', 'O'),\n",
       " ('Algeria', 'B-NP'),\n",
       " ('.', 'O')]"
      ]
     },
     "execution_count": 23,
     "metadata": {},
     "output_type": "execute_result"
    }
   ],
   "source": [
    "# Just for fun: transforming the tree representation to IOB representation\n",
    "# The purpose is to showcase the tree API (functionalities)\n",
    "chunks_iob = []\n",
    "for pos in range(0, len(chunks)):\n",
    "    child = chunks[pos]\n",
    "    try:\n",
    "        chunk_tag = child.label()\n",
    "        # we know there are children to the chunk\n",
    "        words = child.leaves()\n",
    "        # The first one will be affected B-NP\n",
    "        # leaves() returns a list of tuples: (word, tag)\n",
    "        # we will take just the word\n",
    "        v = words[0][0]\n",
    "        chunks_iob.append((v, 'B-' + chunk_tag))\n",
    "        for i in range(1, len(words)):\n",
    "            v = words[i][0]\n",
    "            chunks_iob.append((v, 'I-' + chunk_tag))\n",
    "    except AttributeError:\n",
    "        # We know that this is a lone node\n",
    "        v = child[0]\n",
    "        chunks_iob.append((v, 'O'))\n",
    "\n",
    "chunks_iob"
   ]
  },
  {
   "cell_type": "code",
   "execution_count": 24,
   "id": "4fe0feff",
   "metadata": {},
   "outputs": [
    {
     "name": "stdout",
     "output_type": "stream",
     "text": [
      "Karim NNP B-NP\n",
      "bought VBD O\n",
      "a DT B-NP\n",
      "Lenovo NNP I-NP\n",
      "computer NN B-NP\n",
      "with IN O\n",
      "over IN O\n",
      "70000 CD B-NP\n",
      "DZD NNS I-NP\n",
      "when WRB O\n",
      "he PRP B-NP\n",
      "was VBD O\n",
      "in IN O\n",
      "Algiers NNP B-NP\n",
      ", , O\n",
      "Algeria NNP B-NP\n",
      ". . O\n"
     ]
    }
   ],
   "source": [
    "from nltk.chunk.util import tree2conllstr\n",
    "# this can be accomplished by a single instruction\n",
    "\n",
    "conllstr = tree2conllstr(chunks)\n",
    "\n",
    "print(conllstr)"
   ]
  }
 ],
 "metadata": {
  "kernelspec": {
   "display_name": "Python 3",
   "language": "python",
   "name": "python3"
  },
  "language_info": {
   "codemirror_mode": {
    "name": "ipython",
    "version": 3
   },
   "file_extension": ".py",
   "mimetype": "text/x-python",
   "name": "python",
   "nbconvert_exporter": "python",
   "pygments_lexer": "ipython3",
   "version": "3.8.10"
  }
 },
 "nbformat": 4,
 "nbformat_minor": 5
}
