{
 "cells": [
  {
   "cell_type": "markdown",
   "id": "69c278a1",
   "metadata": {},
   "source": [
    "# Coreference resolution using spaCy\n",
    "\n",
    "\n",
    "# I. neuralcoref"
   ]
  },
  {
   "cell_type": "code",
   "execution_count": 2,
   "id": "9f288076",
   "metadata": {},
   "outputs": [
    {
     "name": "stdout",
     "output_type": "stream",
     "text": [
      "Found existing installation: neuralcoref 4.0\n",
      "Uninstalling neuralcoref-4.0:\n",
      "  Successfully uninstalled neuralcoref-4.0\n",
      "Defaulting to user installation because normal site-packages is not writeable\n",
      "Collecting neuralcoref\n",
      "  Using cached neuralcoref-4.0.tar.gz (368 kB)\n",
      "  Preparing metadata (setup.py) ... \u001b[?25ldone\n",
      "\u001b[?25hRequirement already satisfied: numpy>=1.15.0 in /usr/local/lib/python3.8/dist-packages (from neuralcoref) (1.21.4)\n",
      "Requirement already satisfied: boto3 in /home/kariminf/.local/lib/python3.8/site-packages (from neuralcoref) (1.21.24)\n",
      "Requirement already satisfied: requests<3.0.0,>=2.13.0 in /home/kariminf/.local/lib/python3.8/site-packages (from neuralcoref) (2.26.0)\n",
      "Requirement already satisfied: spacy>=2.1.0 in /home/kariminf/.local/lib/python3.8/site-packages (from neuralcoref) (3.2.1)\n",
      "Requirement already satisfied: certifi>=2017.4.17 in /usr/lib/python3/dist-packages (from requests<3.0.0,>=2.13.0->neuralcoref) (2019.11.28)\n",
      "Requirement already satisfied: charset-normalizer~=2.0.0 in /home/kariminf/.local/lib/python3.8/site-packages (from requests<3.0.0,>=2.13.0->neuralcoref) (2.0.9)\n",
      "Requirement already satisfied: urllib3<1.27,>=1.21.1 in /usr/lib/python3/dist-packages (from requests<3.0.0,>=2.13.0->neuralcoref) (1.25.8)\n",
      "Requirement already satisfied: idna<4,>=2.5 in /usr/lib/python3/dist-packages (from requests<3.0.0,>=2.13.0->neuralcoref) (2.8)\n",
      "Requirement already satisfied: pydantic!=1.8,!=1.8.1,<1.9.0,>=1.7.4 in /home/kariminf/.local/lib/python3.8/site-packages (from spacy>=2.1.0->neuralcoref) (1.8.2)\n",
      "Requirement already satisfied: tqdm<5.0.0,>=4.38.0 in /home/kariminf/.local/lib/python3.8/site-packages (from spacy>=2.1.0->neuralcoref) (4.62.3)\n",
      "Requirement already satisfied: setuptools in /home/kariminf/.local/lib/python3.8/site-packages (from spacy>=2.1.0->neuralcoref) (60.1.0)\n",
      "Requirement already satisfied: catalogue<2.1.0,>=2.0.6 in /home/kariminf/.local/lib/python3.8/site-packages (from spacy>=2.1.0->neuralcoref) (2.0.6)\n",
      "Requirement already satisfied: preshed<3.1.0,>=3.0.2 in /home/kariminf/.local/lib/python3.8/site-packages (from spacy>=2.1.0->neuralcoref) (3.0.6)\n",
      "Requirement already satisfied: packaging>=20.0 in /usr/local/lib/python3.8/dist-packages (from spacy>=2.1.0->neuralcoref) (21.3)\n",
      "Requirement already satisfied: langcodes<4.0.0,>=3.2.0 in /home/kariminf/.local/lib/python3.8/site-packages (from spacy>=2.1.0->neuralcoref) (3.3.0)\n",
      "Requirement already satisfied: wasabi<1.1.0,>=0.8.1 in /home/kariminf/.local/lib/python3.8/site-packages (from spacy>=2.1.0->neuralcoref) (0.9.0)\n",
      "Requirement already satisfied: jinja2 in /usr/local/lib/python3.8/dist-packages (from spacy>=2.1.0->neuralcoref) (3.0.3)\n",
      "Requirement already satisfied: typer<0.5.0,>=0.3.0 in /home/kariminf/.local/lib/python3.8/site-packages (from spacy>=2.1.0->neuralcoref) (0.4.0)\n",
      "Requirement already satisfied: spacy-legacy<3.1.0,>=3.0.8 in /home/kariminf/.local/lib/python3.8/site-packages (from spacy>=2.1.0->neuralcoref) (3.0.8)\n",
      "Requirement already satisfied: srsly<3.0.0,>=2.4.1 in /home/kariminf/.local/lib/python3.8/site-packages (from spacy>=2.1.0->neuralcoref) (2.4.2)\n",
      "Requirement already satisfied: murmurhash<1.1.0,>=0.28.0 in /home/kariminf/.local/lib/python3.8/site-packages (from spacy>=2.1.0->neuralcoref) (1.0.6)\n",
      "Requirement already satisfied: thinc<8.1.0,>=8.0.12 in /home/kariminf/.local/lib/python3.8/site-packages (from spacy>=2.1.0->neuralcoref) (8.0.13)\n",
      "Requirement already satisfied: blis<0.8.0,>=0.4.0 in /home/kariminf/.local/lib/python3.8/site-packages (from spacy>=2.1.0->neuralcoref) (0.7.5)\n",
      "Requirement already satisfied: cymem<2.1.0,>=2.0.2 in /home/kariminf/.local/lib/python3.8/site-packages (from spacy>=2.1.0->neuralcoref) (2.0.6)\n",
      "Requirement already satisfied: spacy-loggers<2.0.0,>=1.0.0 in /home/kariminf/.local/lib/python3.8/site-packages (from spacy>=2.1.0->neuralcoref) (1.0.1)\n",
      "Requirement already satisfied: pathy>=0.3.5 in /home/kariminf/.local/lib/python3.8/site-packages (from spacy>=2.1.0->neuralcoref) (0.6.1)\n",
      "Requirement already satisfied: jmespath<2.0.0,>=0.7.1 in /home/kariminf/.local/lib/python3.8/site-packages (from boto3->neuralcoref) (1.0.0)\n",
      "Requirement already satisfied: botocore<1.25.0,>=1.24.24 in /home/kariminf/.local/lib/python3.8/site-packages (from boto3->neuralcoref) (1.24.24)\n",
      "Requirement already satisfied: s3transfer<0.6.0,>=0.5.0 in /home/kariminf/.local/lib/python3.8/site-packages (from boto3->neuralcoref) (0.5.2)\n",
      "Requirement already satisfied: python-dateutil<3.0.0,>=2.1 in /usr/local/lib/python3.8/dist-packages (from botocore<1.25.0,>=1.24.24->boto3->neuralcoref) (2.8.2)\n",
      "Requirement already satisfied: pyparsing!=3.0.5,>=2.0.2 in /usr/local/lib/python3.8/dist-packages (from packaging>=20.0->spacy>=2.1.0->neuralcoref) (3.0.6)\n",
      "Requirement already satisfied: smart-open<6.0.0,>=5.0.0 in /home/kariminf/.local/lib/python3.8/site-packages (from pathy>=0.3.5->spacy>=2.1.0->neuralcoref) (5.2.1)\n",
      "Requirement already satisfied: typing-extensions>=3.7.4.3 in /usr/local/lib/python3.8/dist-packages (from pydantic!=1.8,!=1.8.1,<1.9.0,>=1.7.4->spacy>=2.1.0->neuralcoref) (4.0.1)\n",
      "Requirement already satisfied: click<9.0.0,>=7.1.1 in /home/kariminf/.local/lib/python3.8/site-packages (from typer<0.5.0,>=0.3.0->spacy>=2.1.0->neuralcoref) (8.0.3)\n",
      "Requirement already satisfied: MarkupSafe>=2.0 in /usr/local/lib/python3.8/dist-packages (from jinja2->spacy>=2.1.0->neuralcoref) (2.0.1)\n",
      "Requirement already satisfied: six>=1.5 in /usr/lib/python3/dist-packages (from python-dateutil<3.0.0,>=2.1->botocore<1.25.0,>=1.24.24->boto3->neuralcoref) (1.14.0)\n",
      "Building wheels for collected packages: neuralcoref\n",
      "  Building wheel for neuralcoref (setup.py) ... \u001b[?25ldone\n",
      "\u001b[?25h  Created wheel for neuralcoref: filename=neuralcoref-4.0-cp38-cp38-linux_x86_64.whl size=1497887 sha256=fa4b5b8e0eb7151cb9ab3825ae3f854160b59d2da9cd1a21fa7d0f74bcd8ed18\n",
      "  Stored in directory: /home/kariminf/.cache/pip/wheels/2c/0b/d4/be6e85f480e2a238aaa98182f52eb6fc410c25b705ffb3b1e9\n",
      "Successfully built neuralcoref\n",
      "Installing collected packages: neuralcoref\n",
      "Successfully installed neuralcoref-4.0\n"
     ]
    }
   ],
   "source": [
    "!pip uninstall -y neuralcoref\n",
    "#!pip install neuralcoref --no-binary neuralcoref\n",
    "!pip install neuralcoref"
   ]
  },
  {
   "cell_type": "code",
   "execution_count": 1,
   "id": "c3b55389",
   "metadata": {},
   "outputs": [
    {
     "name": "stderr",
     "output_type": "stream",
     "text": [
      "2022-04-06 14:51:30.890024: W tensorflow/stream_executor/platform/default/dso_loader.cc:64] Could not load dynamic library 'libcudart.so.11.0'; dlerror: libcudart.so.11.0: cannot open shared object file: No such file or directory\n",
      "2022-04-06 14:51:30.890066: I tensorflow/stream_executor/cuda/cudart_stub.cc:29] Ignore above cudart dlerror if you do not have a GPU set up on your machine.\n"
     ]
    },
    {
     "ename": "ValueError",
     "evalue": "spacy.strings.StringStore size changed, may indicate binary incompatibility. Expected 112 from C header, got 64 from PyObject",
     "output_type": "error",
     "traceback": [
      "\u001b[0;31m---------------------------------------------------------------------------\u001b[0m",
      "\u001b[0;31mValueError\u001b[0m                                Traceback (most recent call last)",
      "\u001b[0;32m/tmp/ipykernel_128522/2184665705.py\u001b[0m in \u001b[0;36m<module>\u001b[0;34m\u001b[0m\n\u001b[1;32m      1\u001b[0m \u001b[0;32mimport\u001b[0m \u001b[0mspacy\u001b[0m\u001b[0;34m\u001b[0m\u001b[0;34m\u001b[0m\u001b[0m\n\u001b[0;32m----> 2\u001b[0;31m \u001b[0;32mimport\u001b[0m \u001b[0mneuralcoref\u001b[0m\u001b[0;34m\u001b[0m\u001b[0;34m\u001b[0m\u001b[0m\n\u001b[0m\u001b[1;32m      3\u001b[0m \u001b[0mnlp\u001b[0m \u001b[0;34m=\u001b[0m \u001b[0mspacy\u001b[0m\u001b[0;34m.\u001b[0m\u001b[0mload\u001b[0m\u001b[0;34m(\u001b[0m\u001b[0;34m'en_core_web_sm'\u001b[0m\u001b[0;34m)\u001b[0m\u001b[0;34m\u001b[0m\u001b[0;34m\u001b[0m\u001b[0m\n\u001b[1;32m      4\u001b[0m \u001b[0mneuralcoref\u001b[0m\u001b[0;34m.\u001b[0m\u001b[0madd_to_pipe\u001b[0m\u001b[0;34m(\u001b[0m\u001b[0mnlp\u001b[0m\u001b[0;34m)\u001b[0m\u001b[0;34m\u001b[0m\u001b[0;34m\u001b[0m\u001b[0m\n",
      "\u001b[0;32m~/.local/lib/python3.8/site-packages/neuralcoref/__init__.py\u001b[0m in \u001b[0;36m<module>\u001b[0;34m\u001b[0m\n\u001b[1;32m     12\u001b[0m \u001b[0mwarnings\u001b[0m\u001b[0;34m.\u001b[0m\u001b[0mfilterwarnings\u001b[0m\u001b[0;34m(\u001b[0m\u001b[0;34m\"ignore\"\u001b[0m\u001b[0;34m,\u001b[0m \u001b[0mmessage\u001b[0m\u001b[0;34m=\u001b[0m\u001b[0;34m\"spacy.strings.StringStore size changed,\"\u001b[0m\u001b[0;34m)\u001b[0m\u001b[0;34m\u001b[0m\u001b[0;34m\u001b[0m\u001b[0m\n\u001b[1;32m     13\u001b[0m \u001b[0;34m\u001b[0m\u001b[0m\n\u001b[0;32m---> 14\u001b[0;31m \u001b[0;32mfrom\u001b[0m \u001b[0;34m.\u001b[0m\u001b[0mneuralcoref\u001b[0m \u001b[0;32mimport\u001b[0m \u001b[0mNeuralCoref\u001b[0m\u001b[0;34m\u001b[0m\u001b[0;34m\u001b[0m\u001b[0m\n\u001b[0m\u001b[1;32m     15\u001b[0m \u001b[0;32mfrom\u001b[0m \u001b[0;34m.\u001b[0m\u001b[0mfile_utils\u001b[0m \u001b[0;32mimport\u001b[0m \u001b[0mNEURALCOREF_MODEL_URL\u001b[0m\u001b[0;34m,\u001b[0m \u001b[0mNEURALCOREF_MODEL_PATH\u001b[0m\u001b[0;34m,\u001b[0m \u001b[0mNEURALCOREF_CACHE\u001b[0m\u001b[0;34m,\u001b[0m \u001b[0mcached_path\u001b[0m\u001b[0;34m\u001b[0m\u001b[0;34m\u001b[0m\u001b[0m\n\u001b[1;32m     16\u001b[0m \u001b[0;34m\u001b[0m\u001b[0m\n",
      "\u001b[0;32mstrings.pxd\u001b[0m in \u001b[0;36minit neuralcoref.neuralcoref\u001b[0;34m()\u001b[0m\n",
      "\u001b[0;31mValueError\u001b[0m: spacy.strings.StringStore size changed, may indicate binary incompatibility. Expected 112 from C header, got 64 from PyObject"
     ]
    }
   ],
   "source": [
    "import spacy\n",
    "import neuralcoref\n",
    "nlp = spacy.load('en_core_web_sm')\n",
    "neuralcoref.add_to_pipe(nlp)"
   ]
  },
  {
   "cell_type": "code",
   "execution_count": 3,
   "id": "0445936b",
   "metadata": {},
   "outputs": [
    {
     "data": {
      "application/vnd.jupyter.widget-view+json": {
       "model_id": "0172011a4b9e4c84a24c837868df8e17",
       "version_major": 2,
       "version_minor": 0
      },
      "text/plain": [
       "Downloading:   0%|          | 0.00/792k [00:00<?, ?B/s]"
      ]
     },
     "metadata": {},
     "output_type": "display_data"
    },
    {
     "data": {
      "application/vnd.jupyter.widget-view+json": {
       "model_id": "673622e4fa4d4cfbab2c8c7ce6625225",
       "version_major": 2,
       "version_minor": 0
      },
      "text/plain": [
       "Downloading:   0%|          | 0.00/1.39M [00:00<?, ?B/s]"
      ]
     },
     "metadata": {},
     "output_type": "display_data"
    },
    {
     "name": "stderr",
     "output_type": "stream",
     "text": [
      "/home/kariminf/.local/lib/python3.8/site-packages/torch/_tensor.py:575: UserWarning: floor_divide is deprecated, and will be removed in a future version of pytorch. It currently rounds toward 0 (like the 'trunc' function NOT 'floor'). This results in incorrect rounding for negative values.\n",
      "To keep the current behavior, use torch.div(a, b, rounding_mode='trunc'), or for actual floor division, use torch.div(a, b, rounding_mode='floor'). (Triggered internally at  ../aten/src/ATen/native/BinaryOps.cpp:467.)\n",
      "  return torch.floor_divide(self, other)\n"
     ]
    },
    {
     "name": "stdout",
     "output_type": "stream",
     "text": [
      "# ::snt This is a test of the spaCy extension.\n",
      "(t / test-01\n",
      "      :ARG1 (e / extend-01\n",
      "            :ARG1 (p / product\n",
      "                  :name (n / name\n",
      "                        :op1 \"SPACy\")))\n",
      "      :domain (t2 / this))\n",
      "# ::snt The test has multiple sentences.\n",
      "(h / have-03\n",
      "      :ARG0 (t / test)\n",
      "      :ARG1 (s / sentence\n",
      "            :quant (m / multiple)))\n"
     ]
    }
   ],
   "source": [
    "doc = nlp('This is a test of the spaCy extension. The test has multiple sentences.')\n",
    "graphs = doc._.to_amr()\n",
    "for graph in graphs:\n",
    "    print(graph)"
   ]
  },
  {
   "cell_type": "code",
   "execution_count": 5,
   "id": "0e18273b",
   "metadata": {},
   "outputs": [
    {
     "data": {
      "text/plain": [
       "str"
      ]
     },
     "execution_count": 5,
     "metadata": {},
     "output_type": "execute_result"
    }
   ],
   "source": []
  },
  {
   "cell_type": "code",
   "execution_count": null,
   "id": "901371d8",
   "metadata": {},
   "outputs": [],
   "source": []
  }
 ],
 "metadata": {
  "kernelspec": {
   "display_name": "Python 3 (ipykernel)",
   "language": "python",
   "name": "python3"
  },
  "language_info": {
   "codemirror_mode": {
    "name": "ipython",
    "version": 3
   },
   "file_extension": ".py",
   "mimetype": "text/x-python",
   "name": "python",
   "nbconvert_exporter": "python",
   "pygments_lexer": "ipython3",
   "version": "3.8.10"
  }
 },
 "nbformat": 4,
 "nbformat_minor": 5
}
