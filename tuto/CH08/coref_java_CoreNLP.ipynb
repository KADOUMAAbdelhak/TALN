{
 "cells": [
  {
   "cell_type": "markdown",
   "id": "da0628fc",
   "metadata": {},
   "source": [
    "# Coreference resolution using CoreNLP\n",
    "\n",
    "Available models are: arabic, chinese, english, french, german and spanish.\n",
    "Stanford CoreNLP affords a pipeline of tasks. \n",
    "In this tutorial, we will choose only the tasks of preprocessing."
   ]
  },
  {
   "cell_type": "code",
   "execution_count": 1,
   "id": "7b0680a5",
   "metadata": {},
   "outputs": [],
   "source": [
    "%%pom\n",
    "dependencies:\n",
    "    - edu.stanford.nlp:stanford-corenlp:4.2.2\n",
    "    - groupId: edu.stanford.nlp\n",
    "      artifactId: stanford-corenlp\n",
    "      version: 4.2.2\n",
    "      classifier: models\n",
    "    - groupId: edu.stanford.nlp\n",
    "      artifactId: stanford-corenlp\n",
    "      version: 4.2.2\n",
    "      classifier: models-arabic\n",
    "\n",
    "# <dependencies>\n",
    "# <dependency>\n",
    "#     <groupId>edu.stanford.nlp</groupId>\n",
    "#     <artifactId>stanford-corenlp</artifactId>\n",
    "#     <version>4.0.0</version>\n",
    "# </dependency>\n",
    "# <dependency>\n",
    "#     <groupId>edu.stanford.nlp</groupId>\n",
    "#     <artifactId>stanford-corenlp</artifactId>\n",
    "#     <version>4.0.0</version>\n",
    "#     <classifier>models</classifier>\n",
    "# </dependency>\n",
    "# </dependencies>"
   ]
  },
  {
   "cell_type": "markdown",
   "id": "b35887a7",
   "metadata": {},
   "source": [
    "https://stanfordnlp.github.io/CoreNLP/coref.html\n",
    "\n",
    "https://stanfordnlp.github.io/CoreNLP/api.html\n"
   ]
  },
  {
   "cell_type": "code",
   "execution_count": 2,
   "id": "66f8fa54",
   "metadata": {},
   "outputs": [
    {
     "data": {
      "text/plain": [
       "Barack Obama was born in Hawaii.  He is the president. Obama was elected in 2008."
      ]
     },
     "execution_count": 2,
     "metadata": {},
     "output_type": "execute_result"
    }
   ],
   "source": [
    "%%java\n",
    "\n",
    "import java.util.Properties;\n",
    "\n",
    "import edu.stanford.nlp.coref.CorefCoreAnnotations;\n",
    "import edu.stanford.nlp.coref.data.CorefChain;\n",
    "import edu.stanford.nlp.coref.data.Mention;\n",
    "import edu.stanford.nlp.ling.CoreAnnotations;\n",
    "import edu.stanford.nlp.pipeline.Annotation;\n",
    "import edu.stanford.nlp.pipeline.StanfordCoreNLP;\n",
    "import edu.stanford.nlp.util.CoreMap;\n",
    "\n",
    "String text = \"Barack Obama was born in Hawaii.  He is the president. Obama was elected in 2008.\";\n",
    "\n",
    "\n",
    "Properties props = new Properties();\n",
    "props.setProperty(\"annotators\", \"tokenize,ssplit,pos,lemma,ner,parse,coref\");\n",
    "props.setProperty(\"coref.algorithm\", \"neural\");\n",
    "\n",
    "StanfordCoreNLP pipeline = new StanfordCoreNLP(props);\n",
    "Annotation document = new Annotation(text);\n",
    "// annnotate the document\n",
    "pipeline.annotate(document);\n",
    "\n",
    "document"
   ]
  },
  {
   "cell_type": "code",
   "execution_count": 3,
   "id": "e7d2ecb7",
   "metadata": {},
   "outputs": [
    {
     "name": "stdout",
     "output_type": "stream",
     "text": [
      "---\n",
      "mentions\n",
      "\tBarack Obama\n",
      "\tHawaii\n",
      "---\n",
      "mentions\n",
      "\tHe\n",
      "\tthe president\n",
      "---\n",
      "mentions\n",
      "\tObama\n",
      "\t2008\n"
     ]
    }
   ],
   "source": [
    "%%java\n",
    "// Mentions detection\n",
    "\n",
    "for (CoreMap sentence : document.get(CoreAnnotations.SentencesAnnotation.class)) {\n",
    "    System.out.println(\"---\");\n",
    "    System.out.println(\"mentions\");\n",
    "    for (Mention m : sentence.get(CorefCoreAnnotations.CorefMentionsAnnotation.class)) {\n",
    "        System.out.println(\"\\t\" + m);\n",
    "    }\n",
    "}"
   ]
  },
  {
   "cell_type": "code",
   "execution_count": 4,
   "id": "3351c124",
   "metadata": {},
   "outputs": [
    {
     "name": "stdout",
     "output_type": "stream",
     "text": [
      "---\n",
      "coref chains\n",
      "\tCHAIN4-[\"Barack Obama\" in sentence 1, \"He\" in sentence 2, \"Obama\" in sentence 3]\n"
     ]
    }
   ],
   "source": [
    "%%java\n",
    "\n",
    "System.out.println(\"---\");\n",
    "System.out.println(\"coref chains\");\n",
    "\n",
    "CorefChain lastCC = null;\n",
    "\n",
    "for (CorefChain cc : document.get(CorefCoreAnnotations.CorefChainAnnotation.class).values()) {\n",
    "    System.out.println(\"\\t\" + cc);\n",
    "    lastCC = cc;\n",
    "}"
   ]
  },
  {
   "cell_type": "code",
   "execution_count": 5,
   "id": "56ae438e",
   "metadata": {},
   "outputs": [
    {
     "name": "stdout",
     "output_type": "stream",
     "text": [
      "from 1 to 2\n",
      "\tmention span=Barack Obama type=PROPER number=SINGULAR gender=MALE\n",
      "from 2 to 1\n",
      "\tmention span=He type=PRONOMINAL number=SINGULAR gender=MALE\n",
      "from 3 to 1\n",
      "\tmention span=Obama type=PROPER number=SINGULAR gender=MALE\n"
     ]
    }
   ],
   "source": [
    "%%java\n",
    "//Mention Map\n",
    "import java.util.Map;\n",
    "import java.util.Set;\n",
    "import edu.stanford.nlp.util.IntPair;\n",
    "\n",
    "if (lastCC != null){\n",
    "    Map<IntPair,Set<CorefChain.CorefMention>> mentionMap = lastCC.getMentionMap();\n",
    "    for(IntPair ip: mentionMap.keySet()){\n",
    "        System.out.println(\"from \" + ip.getSource() + \" to \" + ip.getTarget());\n",
    "        Set<CorefChain.CorefMention> mentions = mentionMap.get(ip);\n",
    "        for (CorefChain.CorefMention mention: mentions){\n",
    "            System.out.print(\"\\tmention span=\" + mention.mentionSpan);\n",
    "            System.out.print(\" type=\" + mention.mentionType);\n",
    "            System.out.print(\" number=\" + mention.number);\n",
    "            System.out.println(\" gender=\" + mention.gender);\n",
    "        } \n",
    "    }\n",
    "}\n"
   ]
  },
  {
   "cell_type": "code",
   "execution_count": null,
   "id": "d339c3f0",
   "metadata": {},
   "outputs": [],
   "source": []
  }
 ],
 "metadata": {
  "kernelspec": {
   "display_name": "Ganymede 1.1.0.20210614 (Java 17)",
   "language": "java",
   "name": "ganymede-1.1.0.20210614-java-17"
  },
  "language_info": {
   "file_extension": ".java",
   "mimetype": "text/x-java",
   "name": "java",
   "version": "17"
  }
 },
 "nbformat": 4,
 "nbformat_minor": 5
}
