{
 "cells": [
  {
   "cell_type": "markdown",
   "id": "da0628fc",
   "metadata": {},
   "source": [
    "# Parsing using CoreNLP\n",
    "\n",
    "Available models are: arabic, chinese, english, french, german and spanish.\n",
    "Stanford CoreNLP affords a pipeline of tasks. \n",
    "In this tutorial, we will choose only the tasks of preprocessing."
   ]
  },
  {
   "cell_type": "code",
   "execution_count": 1,
   "id": "7b0680a5",
   "metadata": {},
   "outputs": [],
   "source": [
    "%%pom\n",
    "dependencies:\n",
    "    - edu.stanford.nlp:stanford-corenlp:4.2.2\n",
    "    - groupId: edu.stanford.nlp\n",
    "      artifactId: stanford-corenlp\n",
    "      version: 4.2.2\n",
    "      classifier: models\n",
    "    - groupId: edu.stanford.nlp\n",
    "      artifactId: stanford-corenlp\n",
    "      version: 4.2.2\n",
    "      classifier: models-arabic\n",
    "\n",
    "# <dependencies>\n",
    "# <dependency>\n",
    "#     <groupId>edu.stanford.nlp</groupId>\n",
    "#     <artifactId>stanford-corenlp</artifactId>\n",
    "#     <version>4.0.0</version>\n",
    "# </dependency>\n",
    "# <dependency>\n",
    "#     <groupId>edu.stanford.nlp</groupId>\n",
    "#     <artifactId>stanford-corenlp</artifactId>\n",
    "#     <version>4.0.0</version>\n",
    "#     <classifier>models</classifier>\n",
    "# </dependency>\n",
    "# </dependencies>"
   ]
  },
  {
   "cell_type": "markdown",
   "id": "b35887a7",
   "metadata": {},
   "source": [
    "## I. Constituancy Parsing\n"
   ]
  },
  {
   "cell_type": "code",
   "execution_count": 18,
   "id": "66f8fa54",
   "metadata": {},
   "outputs": [
    {
     "data": {
      "text/plain": [
       "This is a text written by Mr. Aries. It uses U.S. english to illustrate sentence tokenization."
      ]
     },
     "execution_count": 18,
     "metadata": {},
     "output_type": "execute_result"
    }
   ],
   "source": [
    "%%java\n",
    "\n",
    "import edu.stanford.nlp.ling.*;\n",
    "import edu.stanford.nlp.util.*;\n",
    "import edu.stanford.nlp.pipeline.*;\n",
    "import edu.stanford.nlp.semgraph.*;\n",
    "import edu.stanford.nlp.trees.*;\n",
    "import java.util.*;\n",
    "\n",
    "String text = \"This is a text written by Mr. Aries. It uses U.S. english to illustrate sentence tokenization.\";\n",
    "\n",
    "// set up pipeline properties\n",
    "Properties props = new Properties();\n",
    "\n",
    "// set the list of annotators to run\n",
    "props.setProperty(\"annotators\", \"tokenize,ssplit,pos,parse\");\n",
    "\n",
    "// build pipeline\n",
    "StanfordCoreNLP pipeline = new StanfordCoreNLP(props);\n",
    "\n",
    "Annotation document = new Annotation(text);\n",
    "\n",
    "// annotate\n",
    "pipeline.annotate(document);\n",
    "\n",
    "document"
   ]
  },
  {
   "cell_type": "code",
   "execution_count": 19,
   "id": "b48e507d",
   "metadata": {},
   "outputs": [
    {
     "name": "stdout",
     "output_type": "stream",
     "text": [
      "(ROOT (S (NP (DT This)) (VP (VBZ is) (NP (NP (DT a) (NN text)) (VP (VBN written) (PP (IN by) (NP (NNP Mr.) (NNP Aries)))))) (. .)))\n",
      "(ROOT (S (NP (PRP It)) (VP (VBZ uses) (S (NP (NNP U.S.) (NNP english)) (VP (TO to) (VP (VB illustrate) (NP (NN sentence) (NN tokenization)))))) (. .)))\n"
     ]
    }
   ],
   "source": [
    "%%java\n",
    "import edu.stanford.nlp.trees.*;\n",
    "\n",
    "// get trees\n",
    "for (CoreMap sentence: document.get(CoreAnnotations.SentencesAnnotation.class)){\n",
    "    Tree tree = sentence.get(TreeCoreAnnotations.TreeAnnotation.class);\n",
    "    System.out.println(tree);\n",
    "}\n"
   ]
  },
  {
   "cell_type": "code",
   "execution_count": 20,
   "id": "2eb9794e",
   "metadata": {},
   "outputs": [
    {
     "name": "stdout",
     "output_type": "stream",
     "text": [
      "found constituent: NP(0,0)\n",
      "[This]\n",
      "found constituent: NP(2,3)\n",
      "[a, text]\n",
      "found constituent: NP(6,7)\n",
      "[Mr., Aries]\n",
      "found constituent: NP(2,7)\n",
      "[a, text, written, by, Mr., Aries]\n",
      "found constituent: VP(4,7)\n",
      "[written, by, Mr., Aries]\n",
      "found constituent: VP(1,7)\n",
      "[is, a, text, written, by, Mr., Aries]\n"
     ]
    }
   ],
   "source": [
    "%%java\n",
    "// get the first sentence's tree\n",
    "Tree tree = annotation.get(CoreAnnotations.SentencesAnnotation.class).get(0)\n",
    "                      .get(TreeCoreAnnotations.TreeAnnotation.class);\n",
    "Set<Constituent> treeConstituents = tree.constituents(new LabeledScoredConstituentFactory());\n",
    "\n",
    "for (Constituent constituent : treeConstituents) {\n",
    "    if (constituent.label() != null && (constituent.label().toString().equals(\"VP\") || constituent.label().toString().equals(\"NP\"))) {\n",
    "        System.out.println(\"found constituent: \" + constituent.toString());\n",
    "        System.out.println(tree.getLeaves().subList(constituent.start(), constituent.end()+1));\n",
    "    }\n",
    "}"
   ]
  },
  {
   "cell_type": "markdown",
   "id": "df4c68a7",
   "metadata": {},
   "source": [
    "## II. Dependency Parsing"
   ]
  },
  {
   "cell_type": "code",
   "execution_count": 21,
   "id": "5aa9764f",
   "metadata": {},
   "outputs": [
    {
     "data": {
      "text/plain": [
       "This is a text written by Mr. Aries. It uses U.S. english to illustrate sentence tokenization."
      ]
     },
     "execution_count": 21,
     "metadata": {},
     "output_type": "execute_result"
    }
   ],
   "source": [
    "%%java\n",
    "\n",
    "import edu.stanford.nlp.ling.*;\n",
    "import edu.stanford.nlp.util.*;\n",
    "import edu.stanford.nlp.pipeline.*;\n",
    "import edu.stanford.nlp.semgraph.*;\n",
    "import edu.stanford.nlp.trees.*;\n",
    "import java.util.*;\n",
    "\n",
    "String text = \"This is a text written by Mr. Aries. It uses U.S. english to illustrate sentence tokenization.\";\n",
    "\n",
    "// set up pipeline properties\n",
    "Properties props = new Properties();\n",
    "\n",
    "// set the list of annotators to run\n",
    "props.setProperty(\"annotators\", \"tokenize,ssplit,pos,depparse\");\n",
    "\n",
    "// build pipeline\n",
    "StanfordCoreNLP pipeline = new StanfordCoreNLP(props);\n",
    "\n",
    "Annotation document = new Annotation(text);\n",
    "\n",
    "// annotate\n",
    "pipeline.annotate(document);\n",
    "\n",
    "document"
   ]
  },
  {
   "cell_type": "code",
   "execution_count": 23,
   "id": "7d59557d",
   "metadata": {},
   "outputs": [
    {
     "name": "stdout",
     "output_type": "stream",
     "text": [
      "-> text/NN (root)\n",
      "  -> This/DT (nsubj)\n",
      "  -> is/VBZ (cop)\n",
      "  -> a/DT (det)\n",
      "  -> written/VBN (acl)\n",
      "    -> Aries/NNP (obl:by)\n",
      "      -> by/IN (case)\n",
      "      -> Mr./NNP (compound)\n",
      "  -> ./. (punct)\n",
      "\n",
      "-> uses/VBZ (root)\n",
      "  -> It/PRP (nsubj)\n",
      "  -> english/NNP (obj)\n",
      "    -> U.S./NNP (compound)\n",
      "  -> illustrate/VB (xcomp)\n",
      "    -> to/TO (mark)\n",
      "    -> tokenization/NN (obj)\n",
      "      -> sentence/NN (compound)\n",
      "  -> ./. (punct)\n",
      "\n"
     ]
    }
   ],
   "source": [
    "%%java\n",
    "import edu.stanford.nlp.trees.*;\n",
    "\n",
    "// get trees\n",
    "for (CoreMap sentence: document.get(CoreAnnotations.SentencesAnnotation.class)){\n",
    "    SemanticGraph dependencies = sentence.get(SemanticGraphCoreAnnotations.CollapsedCCProcessedDependenciesAnnotation.class);\n",
    "    System.out.println(dependencies);\n",
    "}"
   ]
  },
  {
   "cell_type": "code",
   "execution_count": 25,
   "id": "981fece2",
   "metadata": {},
   "outputs": [
    {
     "name": "stdout",
     "output_type": "stream",
     "text": [
      "text ---- nsubj ---> This\n",
      "text ---- cop ---> is\n",
      "text ---- det ---> a\n",
      "text ---- acl ---> written\n",
      "Aries ---- case ---> by\n",
      "Aries ---- compound ---> Mr.\n",
      "written ---- obl:by ---> Aries\n",
      "text ---- punct ---> .\n"
     ]
    }
   ],
   "source": [
    "%%java\n",
    "\n",
    "SemanticGraph dependencies = document.get(CoreAnnotations.SentencesAnnotation.class).get(0)\n",
    "                                     .get(SemanticGraphCoreAnnotations.CollapsedCCProcessedDependenciesAnnotation.class);\n",
    "\n",
    "for (SemanticGraphEdge edge : dependencies.edgeListSorted()) {\n",
    "    String reln = edge.getRelation().toString();\n",
    "    String gov = (edge.getSource()).word();\n",
    "    //int govIdx = (edge.getSource()).index();\n",
    "    String dep = (edge.getTarget()).word();\n",
    "    //int depIdx = (edge.getTarget()).index();\n",
    "    System.out.println(gov + \" ---- \" + reln + \" ---> \" + dep);\n",
    " }"
   ]
  },
  {
   "cell_type": "code",
   "execution_count": null,
   "id": "3351c124",
   "metadata": {},
   "outputs": [],
   "source": []
  }
 ],
 "metadata": {
  "kernelspec": {
   "display_name": "Ganymede 1.1.0.20210614 (Java 11)",
   "language": "java",
   "name": "ganymede-1.1.0.20210614-java-11"
  },
  "language_info": {
   "file_extension": ".java",
   "mimetype": "text/x-java",
   "name": "java",
   "version": "11"
  }
 },
 "nbformat": 4,
 "nbformat_minor": 5
}
