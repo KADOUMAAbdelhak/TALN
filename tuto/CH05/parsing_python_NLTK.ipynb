{
 "cells": [
  {
   "cell_type": "markdown",
   "id": "87cd77d1",
   "metadata": {},
   "source": [
    "# Parsing using NLTK"
   ]
  },
  {
   "cell_type": "markdown",
   "id": "f5989984",
   "metadata": {},
   "source": [
    "## I. Grammars\n",
    "\n",
    "### I.1. Context Free grammar (CFG)"
   ]
  },
  {
   "cell_type": "code",
   "execution_count": 1,
   "id": "2118b3fc",
   "metadata": {},
   "outputs": [
    {
     "data": {
      "text/plain": [
       "<Grammar with 26 productions>"
      ]
     },
     "execution_count": 1,
     "metadata": {},
     "output_type": "execute_result"
    }
   ],
   "source": [
    "import nltk\n",
    "\n",
    "exp_cfg = nltk.CFG.fromstring(\"\"\"\n",
    "S -> NP VP | VP\n",
    "VP -> V NP\n",
    "NP -> DET ADJ N | DET N | PRON\n",
    "PRON -> 'je' | 'tu' | 'il' | 'elle'\n",
    "V -> 'forme' | 'veut' | 'mange'\n",
    "DET -> 'un' | 'une' | 'la' | 'le'\n",
    "ADJ -> 'petite' | 'grand' | 'bleu' | petit\n",
    "N -> 'petite' | 'forme' | 'phrase' | 'chat' | 'poisson'\n",
    "\"\"\")\n",
    "\n",
    "exp_cfg"
   ]
  },
  {
   "cell_type": "code",
   "execution_count": 2,
   "id": "b70cd149",
   "metadata": {},
   "outputs": [
    {
     "data": {
      "text/plain": [
       "(False, False, False)"
      ]
     },
     "execution_count": 2,
     "metadata": {},
     "output_type": "execute_result"
    }
   ],
   "source": [
    "exp_cfg.is_binarised(), exp_cfg.is_chomsky_normal_form(), exp_cfg.is_leftcorner('S', 'VP')"
   ]
  },
  {
   "cell_type": "code",
   "execution_count": 3,
   "id": "1ce0d361",
   "metadata": {},
   "outputs": [
    {
     "data": {
      "text/plain": [
       "[S -> NP VP,\n",
       " S -> VP,\n",
       " VP -> V NP,\n",
       " NP -> DET NP_DET,\n",
       " NP_DET -> ADJ N,\n",
       " NP -> DET N,\n",
       " NP -> PRON,\n",
       " PRON -> 'je',\n",
       " PRON -> 'tu',\n",
       " PRON -> 'il',\n",
       " PRON -> 'elle',\n",
       " V -> 'forme',\n",
       " V -> 'veut',\n",
       " V -> 'mange',\n",
       " DET -> 'un',\n",
       " DET -> 'une',\n",
       " DET -> 'la',\n",
       " DET -> 'le',\n",
       " ADJ -> 'petite',\n",
       " ADJ -> 'grand',\n",
       " ADJ -> 'bleu',\n",
       " ADJ -> petit,\n",
       " N -> 'petite',\n",
       " N -> 'forme',\n",
       " N -> 'phrase',\n",
       " N -> 'chat',\n",
       " N -> 'poisson']"
      ]
     },
     "execution_count": 3,
     "metadata": {},
     "output_type": "execute_result"
    }
   ],
   "source": [
    "exp_cfg_bin = nltk.CFG.binarize(exp_cfg, padding='_')\n",
    "\n",
    "exp_cfg_bin.productions()"
   ]
  },
  {
   "cell_type": "code",
   "execution_count": 4,
   "id": "032c9dfd",
   "metadata": {},
   "outputs": [
    {
     "data": {
      "text/plain": [
       "[NP -> 'tu',\n",
       " PRON -> 'elle',\n",
       " S -> NP VP,\n",
       " NP -> DET N,\n",
       " DET -> 'un',\n",
       " V -> 'veut',\n",
       " NP -> 'elle',\n",
       " V -> 'forme',\n",
       " N -> 'phrase',\n",
       " NP_DET -> ADJ N,\n",
       " PRON -> 'je',\n",
       " VP -> V NP,\n",
       " PRON -> 'il',\n",
       " ADJ -> 'petite',\n",
       " N -> 'forme',\n",
       " ADJ -> 'grand',\n",
       " DET -> 'une',\n",
       " NP -> 'je',\n",
       " NP -> 'il',\n",
       " NP -> DET NP_DET,\n",
       " ADJ -> 'bleu',\n",
       " N -> 'poisson',\n",
       " S -> V NP,\n",
       " PRON -> 'tu',\n",
       " DET -> 'la',\n",
       " N -> 'petite',\n",
       " V -> 'mange',\n",
       " N -> 'chat',\n",
       " DET -> 'le']"
      ]
     },
     "execution_count": 4,
     "metadata": {},
     "output_type": "execute_result"
    }
   ],
   "source": [
    "# flexible=True if you want to save unitary productions\n",
    "exp_cfg_CNF = exp_cfg.chomsky_normal_form(new_token_padding='_') \n",
    "\n",
    "exp_cfg_CNF.productions()"
   ]
  },
  {
   "cell_type": "code",
   "execution_count": 5,
   "id": "bed92fda",
   "metadata": {},
   "outputs": [
    {
     "data": {
      "text/plain": [
       "{'S'}"
      ]
     },
     "execution_count": 5,
     "metadata": {},
     "output_type": "execute_result"
    }
   ],
   "source": [
    "exp_cfg.leftcorners('S')"
   ]
  },
  {
   "cell_type": "markdown",
   "id": "7502a275",
   "metadata": {},
   "source": [
    "### I.2. Loading grammars"
   ]
  },
  {
   "cell_type": "code",
   "execution_count": 6,
   "id": "d366a070",
   "metadata": {},
   "outputs": [
    {
     "data": {
      "text/plain": [
       "<Grammar with 14 productions>"
      ]
     },
     "execution_count": 6,
     "metadata": {},
     "output_type": "execute_result"
    }
   ],
   "source": [
    "from nltk.parse.util import load\n",
    "\n",
    "gram_load = load('grammars/book_grammars/sql0.fcfg')\n",
    "\n",
    "gram_load"
   ]
  },
  {
   "cell_type": "markdown",
   "id": "8137fe7f",
   "metadata": {},
   "source": [
    "### I.3. Treebanks"
   ]
  },
  {
   "cell_type": "code",
   "execution_count": 7,
   "id": "e58f6978",
   "metadata": {},
   "outputs": [
    {
     "data": {
      "image/png": "[encoded data removed]",
      "text/plain": [
       "Tree('S', [Tree('NP-SBJ', [Tree('NP', [Tree('NNP', ['Pierre']), Tree('NNP', ['Vinken'])]), Tree(',', [',']), Tree('ADJP', [Tree('NP', [Tree('CD', ['61']), Tree('NNS', ['years'])]), Tree('JJ', ['old'])]), Tree(',', [','])]), Tree('VP', [Tree('MD', ['will']), Tree('VP', [Tree('VB', ['join']), Tree('NP', [Tree('DT', ['the']), Tree('NN', ['board'])]), Tree('PP-CLR', [Tree('IN', ['as']), Tree('NP', [Tree('DT', ['a']), Tree('JJ', ['nonexecutive']), Tree('NN', ['director'])])]), Tree('NP-TMP', [Tree('NNP', ['Nov.']), Tree('CD', ['29'])])])]), Tree('.', ['.'])])"
      ]
     },
     "execution_count": 7,
     "metadata": {},
     "output_type": "execute_result"
    }
   ],
   "source": [
    "from nltk.corpus import treebank\n",
    "\n",
    "treebank.parsed_sents('wsj_0001.mrg')[0]"
   ]
  },
  {
   "cell_type": "code",
   "execution_count": 8,
   "id": "1e3ce465",
   "metadata": {},
   "outputs": [
    {
     "data": {
      "text/plain": [
       "['k_01.mrg', 'k_02.mrg']"
      ]
     },
     "execution_count": 8,
     "metadata": {},
     "output_type": "execute_result"
    }
   ],
   "source": [
    "from nltk.corpus.reader import BracketParseCorpusReader\n",
    "\n",
    "my_treebank = BracketParseCorpusReader('doc', r'k_.*\\.mrg', tagset='AAK')\n",
    "\n",
    "my_treebank.fileids()"
   ]
  },
  {
   "cell_type": "code",
   "execution_count": 9,
   "id": "4aa8a91b",
   "metadata": {},
   "outputs": [
    {
     "data": {
      "image/png": "[encoded data removed]",
      "text/plain": [
       "Tree('S', [Tree('NP', [Tree('DET', ['un']), Tree('N', ['petit']), Tree('N', ['chat'])]), Tree('VP', [Tree('V', ['mange']), Tree('NP', [Tree('DET', ['un']), Tree('ADJ', ['grand']), Tree('N', ['poisson'])])])])"
      ]
     },
     "execution_count": 9,
     "metadata": {},
     "output_type": "execute_result"
    }
   ],
   "source": [
    "my_treebank.parsed_sents('k_02.mrg')[0]"
   ]
  },
  {
   "cell_type": "markdown",
   "id": "4b3714be",
   "metadata": {},
   "source": [
    "## II. Parsing\n",
    "\n",
    "### II.1. Recursive Descent"
   ]
  },
  {
   "cell_type": "code",
   "execution_count": 10,
   "id": "1c24286c",
   "metadata": {},
   "outputs": [
    {
     "name": "stdout",
     "output_type": "stream",
     "text": [
      "(S\n",
      "  (NP (DET la) (N petite))\n",
      "  (VP (V forme) (NP (DET une) (ADJ petite) (N phrase))))\n"
     ]
    },
    {
     "data": {
      "image/png": "[encoded data removed]",
      "text/plain": [
       "Tree('S', [Tree('NP', [Tree('DET', ['la']), Tree('N', ['petite'])]), Tree('VP', [Tree('V', ['forme']), Tree('NP', [Tree('DET', ['une']), Tree('ADJ', ['petite']), Tree('N', ['phrase'])])])])"
      ]
     },
     "execution_count": 10,
     "metadata": {},
     "output_type": "execute_result"
    }
   ],
   "source": [
    "sent = ['la', 'petite', 'forme', 'une', 'petite', 'phrase']\n",
    "parser = nltk.RecursiveDescentParser(exp_cfg)\n",
    "\n",
    "for tree in parser.parse(sent):\n",
    "    print(tree)\n",
    "    \n",
    "tree"
   ]
  },
  {
   "cell_type": "markdown",
   "id": "89509012",
   "metadata": {},
   "source": [
    "### II.2. Shift-Reduce"
   ]
  },
  {
   "cell_type": "code",
   "execution_count": 11,
   "id": "5a1eb761",
   "metadata": {},
   "outputs": [
    {
     "name": "stdout",
     "output_type": "stream",
     "text": [
      "Warning: V -> 'forme' will never be used\n",
      "Warning: ADJ -> 'petite' will never be used\n"
     ]
    },
    {
     "data": {
      "image/png": "[encoded data removed]",
      "text/plain": [
       "Tree('S', [Tree('NP', [Tree('DET', ['la']), Tree('N', ['petite'])]), Tree('VP', [Tree('V', ['forme']), Tree('NP', [Tree('DET', ['une']), Tree('ADJ', ['petite']), Tree('N', ['phrase'])])])])"
      ]
     },
     "execution_count": 11,
     "metadata": {},
     "output_type": "execute_result"
    }
   ],
   "source": [
    "parser = nltk.ShiftReduceParser(exp_cfg)\n",
    "\n",
    "for tree in parser.parse(sent):\n",
    "    print(tree)\n",
    "    \n",
    "tree"
   ]
  },
  {
   "cell_type": "markdown",
   "id": "2fdc7e92",
   "metadata": {},
   "source": [
    "### II.3. Chart"
   ]
  },
  {
   "cell_type": "code",
   "execution_count": 12,
   "id": "414acef8",
   "metadata": {},
   "outputs": [
    {
     "name": "stdout",
     "output_type": "stream",
     "text": [
      "(S\n",
      "  (NP (DET la) (N petite))\n",
      "  (VP (V forme) (NP (DET une) (ADJ petite) (N phrase))))\n"
     ]
    },
    {
     "data": {
      "image/png": "[encoded data removed]",
      "text/plain": [
       "Tree('S', [Tree('NP', [Tree('DET', ['la']), Tree('N', ['petite'])]), Tree('VP', [Tree('V', ['forme']), Tree('NP', [Tree('DET', ['une']), Tree('ADJ', ['petite']), Tree('N', ['phrase'])])])])"
      ]
     },
     "execution_count": 12,
     "metadata": {},
     "output_type": "execute_result"
    }
   ],
   "source": [
    "from nltk.parse.earleychart import EarleyChartParser\n",
    "\n",
    "parser = EarleyChartParser(exp_cfg)\n",
    "\n",
    "for tree in parser.parse(sent):\n",
    "    print(tree)\n",
    "    \n",
    "tree"
   ]
  },
  {
   "cell_type": "code",
   "execution_count": 13,
   "id": "d89e2485",
   "metadata": {},
   "outputs": [
    {
     "name": "stdout",
     "output_type": "stream",
     "text": [
      "(S\n",
      "  (NP (DET la) (N petite))\n",
      "  (VP (V forme) (NP (DET une) (ADJ petite) (N phrase))))\n"
     ]
    },
    {
     "data": {
      "image/png": "[encoded data removed]",
      "text/plain": [
       "Tree('S', [Tree('NP', [Tree('DET', ['la']), Tree('N', ['petite'])]), Tree('VP', [Tree('V', ['forme']), Tree('NP', [Tree('DET', ['une']), Tree('ADJ', ['petite']), Tree('N', ['phrase'])])])])"
      ]
     },
     "execution_count": 13,
     "metadata": {},
     "output_type": "execute_result"
    }
   ],
   "source": [
    "from nltk.parse.chart import BottomUpChartParser\n",
    "\n",
    "parser = BottomUpChartParser(exp_cfg)\n",
    "\n",
    "for tree in parser.parse(sent):\n",
    "    print(tree)\n",
    "    \n",
    "tree"
   ]
  },
  {
   "cell_type": "markdown",
   "id": "74e2ff73",
   "metadata": {},
   "source": [
    "## III. Generation"
   ]
  },
  {
   "cell_type": "code",
   "execution_count": 14,
   "id": "0fa64fbf",
   "metadata": {},
   "outputs": [
    {
     "data": {
      "text/plain": [
       "[['un', 'petite', 'petite', 'forme', 'un', 'petite', 'petite'],\n",
       " ['un', 'petite', 'petite', 'forme', 'un', 'petite', 'forme'],\n",
       " ['un', 'petite', 'petite', 'forme', 'un', 'petite', 'phrase'],\n",
       " ['un', 'petite', 'petite', 'forme', 'un', 'petite', 'chat'],\n",
       " ['un', 'petite', 'petite', 'forme', 'un', 'petite', 'poisson']]"
      ]
     },
     "execution_count": 14,
     "metadata": {},
     "output_type": "execute_result"
    }
   ],
   "source": [
    "from nltk.parse.generate import generate\n",
    "\n",
    "list(generate(exp_cfg, n=5))"
   ]
  },
  {
   "cell_type": "code",
   "execution_count": 15,
   "id": "230f8e00",
   "metadata": {},
   "outputs": [
    {
     "data": {
      "text/plain": [
       "21420"
      ]
     },
     "execution_count": 15,
     "metadata": {},
     "output_type": "execute_result"
    }
   ],
   "source": [
    "len(list(generate(exp_cfg, depth=6)))"
   ]
  },
  {
   "cell_type": "code",
   "execution_count": null,
   "id": "ed6b4b95",
   "metadata": {},
   "outputs": [],
   "source": []
  }
 ],
 "metadata": {
  "kernelspec": {
   "display_name": "Python 3 (ipykernel)",
   "language": "python",
   "name": "python3"
  },
  "language_info": {
   "codemirror_mode": {
    "name": "ipython",
    "version": 3
   },
   "file_extension": ".py",
   "mimetype": "text/x-python",
   "name": "python",
   "nbconvert_exporter": "python",
   "pygments_lexer": "ipython3",
   "version": "3.8.10"
  }
 },
 "nbformat": 4,
 "nbformat_minor": 5
}
