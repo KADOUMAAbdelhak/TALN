{
 "cells": [
  {
   "cell_type": "markdown",
   "id": "05f558c2",
   "metadata": {},
   "source": [
    "# Word representation using TensorFlow-ELMo"
   ]
  },
  {
   "cell_type": "markdown",
   "id": "5c422d14",
   "metadata": {},
   "source": [
    "## I. Text encoding\n",
    "\n",
    "To use ELMo as a module, we have to use TensorFlow 1. \n",
    "Also, we have to deactivate eager execution in order to build a graph and execute it in a session."
   ]
  },
  {
   "cell_type": "code",
   "execution_count": 1,
   "id": "37736061",
   "metadata": {},
   "outputs": [
    {
     "data": {
      "text/plain": [
       "<tensorflow_hub.module.Module at 0x7f365cb35ee0>"
      ]
     },
     "execution_count": 1,
     "metadata": {},
     "output_type": "execute_result"
    }
   ],
   "source": [
    "import tensorflow_hub as hub\n",
    "import tensorflow.compat.v1 as tf\n",
    "\n",
    "tf.disable_eager_execution()\n",
    "\n",
    "# Load ELMo model from TensorFlow hun\n",
    "elmo = hub.Module('https://tfhub.dev/google/elmo/2', trainable=True)\n",
    "\n",
    "elmo"
   ]
  },
  {
   "cell_type": "code",
   "execution_count": 2,
   "id": "f4f0a244",
   "metadata": {
    "scrolled": true
   },
   "outputs": [
    {
     "name": "stdout",
     "output_type": "stream",
     "text": [
      "INFO:tensorflow:Saver not created because there are no variables in the graph to restore\n"
     ]
    },
    {
     "name": "stderr",
     "output_type": "stream",
     "text": [
      "INFO:tensorflow:Saver not created because there are no variables in the graph to restore\n"
     ]
    },
    {
     "name": "stdout",
     "output_type": "stream",
     "text": [
      "[[[ 3.0815458e-01  2.6630402e-01  2.3561311e-01 ... -3.7085709e-01\n",
      "    1.6490501e-01 -7.2459459e-02]\n",
      "  [ 5.1428783e-01 -1.3532351e-01  1.1090414e-01 ...  4.0468305e-02\n",
      "   -4.7897547e-02  7.3659611e-01]\n",
      "  [-2.5880380e-02 -7.2836205e-02 -7.9355925e-02 ... -2.9072428e-01\n",
      "    7.2421390e-01  4.3863511e-01]\n",
      "  [-3.4798026e-01 -2.9102378e-02 -8.1993032e-01 ... -9.2048419e-01\n",
      "    2.1888085e-02  1.2106040e-01]\n",
      "  [-2.1827453e-01 -1.3076580e-01 -2.5209627e-01 ... -2.9693589e-01\n",
      "   -1.5828075e-01 -4.9007181e-02]\n",
      "  [ 1.0072538e-01 -2.9534612e-02 -2.4494284e-01 ... -3.7235063e-01\n",
      "   -1.4875787e-01  2.1592249e-01]]\n",
      "\n",
      " [[ 5.4578602e-02 -2.6427531e-01  4.6843794e-01 ... -1.4077097e-01\n",
      "   -2.6568234e-01  4.5211998e-01]\n",
      "  [ 8.0942981e-02  1.1583895e-01 -1.5670605e-01 ... -2.6896143e-01\n",
      "    3.3871925e-01  1.1577199e-02]\n",
      "  [-7.8964382e-02  9.4927502e-01 -6.1804920e-01 ... -6.3055885e-01\n",
      "    3.0942994e-01  1.5378746e-01]\n",
      "  [-6.7808926e-02  9.7187601e-02 -3.6225462e-01 ...  7.7500239e-02\n",
      "   -6.1660964e-02  6.0047470e-02]\n",
      "  [-2.6177359e-04 -1.2609763e-01 -5.3394741e-01 ...  4.2921829e-01\n",
      "    1.2804615e-01  5.3191930e-01]\n",
      "  [-2.8408406e-02 -4.3532155e-02  4.1301623e-02 ...  2.5831681e-02\n",
      "   -1.4298355e-02 -1.6504223e-02]]]\n",
      "(2, 6, 1024)\n"
     ]
    }
   ],
   "source": [
    "# \n",
    "embeddings = elmo(tf.constant([\"the cat is on the mat\", \"dogs are in the fog\"]),\n",
    "    signature=\"default\",\n",
    "    as_dict=True)['elmo']\n",
    "\n",
    "with tf.Session() as session:\n",
    "    session.run([tf.global_variables_initializer(), tf.tables_initializer()])\n",
    "    message_embeddings = session.run(embeddings)\n",
    "    print(message_embeddings)\n",
    "    print(message_embeddings.shape)"
   ]
  },
  {
   "cell_type": "markdown",
   "id": "c2e3ccc4",
   "metadata": {},
   "source": [
    "## II. Using ELMo\n",
    "\n",
    "https://www.insofe.edu.in/insights/how-to-use-elmo-embedding-in-bidirectional-lstm-model-architecture/"
   ]
  },
  {
   "cell_type": "code",
   "execution_count": 3,
   "id": "b6a7e416",
   "metadata": {},
   "outputs": [],
   "source": [
    "sent_sent = tf.constant([#sentiment sentences\n",
    "    'this is a good product',\n",
    "    'this is a bad product',\n",
    "    'i am happy with this',\n",
    "    'i really cannot understant why is this product',\n",
    "    'the product has many benefits',\n",
    "    'i am not satisfied'\n",
    "])\n",
    "\n",
    "sent_labels = [1, 0, 1, 0, 1, 0]\n",
    "\n",
    "sent_sent_test = tf.constant([#sentiment sentences\n",
    "    'this is the best product', #1\n",
    "    'this is the worst product', #0\n",
    "    'i am not angry with this at all', #1\n",
    "    'i really can hate this product', #0\n",
    "    'the product has not many downs', #1\n",
    "    'i am unsatisfied' #0\n",
    "])"
   ]
  },
  {
   "cell_type": "code",
   "execution_count": 4,
   "id": "ba114119",
   "metadata": {},
   "outputs": [
    {
     "name": "stdout",
     "output_type": "stream",
     "text": [
      "INFO:tensorflow:Saver not created because there are no variables in the graph to restore\n"
     ]
    },
    {
     "name": "stderr",
     "output_type": "stream",
     "text": [
      "INFO:tensorflow:Saver not created because there are no variables in the graph to restore\n"
     ]
    },
    {
     "name": "stdout",
     "output_type": "stream",
     "text": [
      "Model: \"BiLSTM with ELMo Embeddings\"\n",
      "_________________________________________________________________\n",
      "Layer (type)                 Output Shape              Param #   \n",
      "=================================================================\n",
      "Input_layer (InputLayer)     [(None, 1)]               0         \n",
      "_________________________________________________________________\n",
      "Elmo_Embedding (Lambda)      (None, None, 1024)        0         \n",
      "_________________________________________________________________\n",
      "BiLSTM (Bidirectional)       (None, 20)                82800     \n",
      "_________________________________________________________________\n",
      "dense (Dense)                (None, 5)                 105       \n",
      "_________________________________________________________________\n",
      "dense_1 (Dense)              (None, 1)                 6         \n",
      "=================================================================\n",
      "Total params: 82,911\n",
      "Trainable params: 82,911\n",
      "Non-trainable params: 0\n",
      "_________________________________________________________________\n"
     ]
    }
   ],
   "source": [
    "from tensorflow.keras.layers import Input, Lambda, Bidirectional, Dense, Dropout, LSTM\n",
    "from tensorflow.keras.models import Model\n",
    "\n",
    "def ELMoEmbedding(input_text):\n",
    "    return elmo(tf.reshape(tf.cast(input_text, tf.string), [-1]), signature=\"default\", as_dict=True)[\"elmo\"]\n",
    "\n",
    "def build_model():\n",
    "    input_layer = Input(shape=(1,), dtype=\"string\", name=\"Input_layer\")\n",
    "    embedding_layer = Lambda(ELMoEmbedding, output_shape=(1024, ), name=\"Elmo_Embedding\")(input_layer)\n",
    "    BiLSTM = Bidirectional(LSTM(10, return_sequences= False, recurrent_dropout=0.2, dropout=0.2), name=\"BiLSTM\")(embedding_layer)\n",
    "    Dense_layer_1 = Dense(5, activation='relu')(BiLSTM)\n",
    "    output_layer = Dense(1, activation='sigmoid')(Dense_layer_1)\n",
    "    model = Model(inputs=[input_layer], outputs=output_layer, name=\"BiLSTM with ELMo Embeddings\")\n",
    "    model.summary()\n",
    "    model.compile(loss='binary_crossentropy',optimizer='adam',metrics=['accuracy'])\n",
    "    return model\n",
    "\n",
    "elmo_BiDirectional_model = build_model()"
   ]
  },
  {
   "cell_type": "code",
   "execution_count": 11,
   "id": "9ec30fb5",
   "metadata": {},
   "outputs": [
    {
     "name": "stdout",
     "output_type": "stream",
     "text": [
      "Train on 6 samples\n",
      "Epoch 1/20\n",
      "6/6 [==============================] - 4s 489ms/step - batch: 2.5000 - size: 1.0000 - loss: 0.5696 - accuracy: 0.7222\n",
      "Epoch 2/20\n",
      "6/6 [==============================] - 3s 442ms/step - batch: 2.5000 - size: 1.0000 - loss: 0.4097 - accuracy: 0.8889\n",
      "Epoch 3/20\n",
      "6/6 [==============================] - 3s 440ms/step - batch: 2.5000 - size: 1.0000 - loss: 0.2839 - accuracy: 1.0000\n",
      "Epoch 4/20\n",
      "6/6 [==============================] - 3s 440ms/step - batch: 2.5000 - size: 1.0000 - loss: 0.1845 - accuracy: 1.0000\n",
      "Epoch 5/20\n",
      "6/6 [==============================] - 3s 440ms/step - batch: 2.5000 - size: 1.0000 - loss: 0.1317 - accuracy: 1.0000\n",
      "Epoch 6/20\n",
      "6/6 [==============================] - 3s 437ms/step - batch: 2.5000 - size: 1.0000 - loss: 0.0967 - accuracy: 1.0000\n",
      "Epoch 7/20\n",
      "6/6 [==============================] - 3s 443ms/step - batch: 2.5000 - size: 1.0000 - loss: 0.0763 - accuracy: 1.0000\n",
      "Epoch 8/20\n",
      "6/6 [==============================] - 3s 490ms/step - batch: 2.5000 - size: 1.0000 - loss: 0.0645 - accuracy: 1.0000\n",
      "Epoch 9/20\n",
      "6/6 [==============================] - 3s 442ms/step - batch: 2.5000 - size: 1.0000 - loss: 0.0545 - accuracy: 1.0000\n",
      "Epoch 10/20\n",
      "6/6 [==============================] - 3s 440ms/step - batch: 2.5000 - size: 1.0000 - loss: 0.0481 - accuracy: 1.0000\n",
      "Epoch 11/20\n",
      "6/6 [==============================] - 3s 440ms/step - batch: 2.5000 - size: 1.0000 - loss: 0.0434 - accuracy: 1.0000\n",
      "Epoch 12/20\n",
      "6/6 [==============================] - 3s 441ms/step - batch: 2.5000 - size: 1.0000 - loss: 0.0386 - accuracy: 1.0000\n",
      "Epoch 13/20\n",
      "6/6 [==============================] - 3s 482ms/step - batch: 2.5000 - size: 1.0000 - loss: 0.0344 - accuracy: 1.0000\n",
      "Epoch 14/20\n",
      "6/6 [==============================] - 3s 451ms/step - batch: 2.5000 - size: 1.0000 - loss: 0.0317 - accuracy: 1.0000\n",
      "Epoch 15/20\n",
      "6/6 [==============================] - 3s 443ms/step - batch: 2.5000 - size: 1.0000 - loss: 0.0288 - accuracy: 1.0000\n",
      "Epoch 16/20\n",
      "6/6 [==============================] - 3s 443ms/step - batch: 2.5000 - size: 1.0000 - loss: 0.0265 - accuracy: 1.0000\n",
      "Epoch 17/20\n",
      "6/6 [==============================] - 3s 442ms/step - batch: 2.5000 - size: 1.0000 - loss: 0.0240 - accuracy: 1.0000\n",
      "Epoch 18/20\n",
      "6/6 [==============================] - 3s 453ms/step - batch: 2.5000 - size: 1.0000 - loss: 0.0220 - accuracy: 1.0000\n",
      "Epoch 19/20\n",
      "6/6 [==============================] - 3s 438ms/step - batch: 2.5000 - size: 1.0000 - loss: 0.0204 - accuracy: 1.0000\n",
      "Epoch 20/20\n",
      "6/6 [==============================] - 3s 440ms/step - batch: 2.5000 - size: 1.0000 - loss: 0.0186 - accuracy: 1.0000\n"
     ]
    }
   ],
   "source": [
    "with tf.Session() as session:\n",
    "    session.run(tf.global_variables_initializer())\n",
    "    session.run(tf.tables_initializer())\n",
    "    sent_elmo_hisory = elmo_BiDirectional_model.fit(sent_sent, sent_labels, epochs=20, steps_per_epoch=6)\n",
    "    train_prediction = elmo_BiDirectional_model.predict(sent_sent, steps=1)\n",
    "    test_prediction = elmo_BiDirectional_model.predict(sent_sent_test, steps=1)\n",
    "    elmo_embedding_after = session.run(embeddings)"
   ]
  },
  {
   "cell_type": "code",
   "execution_count": 12,
   "id": "894cbcb0",
   "metadata": {},
   "outputs": [
    {
     "data": {
      "text/plain": [
       "array([[0.9861125 ],\n",
       "       [0.00486219],\n",
       "       [0.93559265],\n",
       "       [0.00260982],\n",
       "       [0.98661697],\n",
       "       [0.00405416]], dtype=float32)"
      ]
     },
     "execution_count": 12,
     "metadata": {},
     "output_type": "execute_result"
    }
   ],
   "source": [
    "train_prediction"
   ]
  },
  {
   "cell_type": "code",
   "execution_count": 13,
   "id": "8677a911",
   "metadata": {},
   "outputs": [
    {
     "data": {
      "text/plain": [
       "array([[0.98496413],\n",
       "       [0.18841314],\n",
       "       [0.23608506],\n",
       "       [0.00625518],\n",
       "       [0.9826081 ],\n",
       "       [0.03110862]], dtype=float32)"
      ]
     },
     "execution_count": 13,
     "metadata": {},
     "output_type": "execute_result"
    }
   ],
   "source": [
    "test_prediction"
   ]
  },
  {
   "cell_type": "code",
   "execution_count": 14,
   "id": "50d22d72",
   "metadata": {},
   "outputs": [
    {
     "name": "stdout",
     "output_type": "stream",
     "text": [
      "[[[ 3.0815458e-01  2.6630402e-01  2.3561311e-01 ... -3.7085709e-01\n",
      "    1.6490501e-01 -7.2459459e-02]\n",
      "  [ 5.1428783e-01 -1.3532351e-01  1.1090414e-01 ...  4.0468305e-02\n",
      "   -4.7897547e-02  7.3659611e-01]\n",
      "  [-2.5880380e-02 -7.2836205e-02 -7.9355925e-02 ... -2.9072428e-01\n",
      "    7.2421390e-01  4.3863511e-01]\n",
      "  [-3.4798026e-01 -2.9102378e-02 -8.1993032e-01 ... -9.2048419e-01\n",
      "    2.1888085e-02  1.2106040e-01]\n",
      "  [-2.1827453e-01 -1.3076580e-01 -2.5209627e-01 ... -2.9693589e-01\n",
      "   -1.5828075e-01 -4.9007181e-02]\n",
      "  [ 1.0072538e-01 -2.9534612e-02 -2.4494284e-01 ... -3.7235063e-01\n",
      "   -1.4875787e-01  2.1592249e-01]]\n",
      "\n",
      " [[ 5.4578602e-02 -2.6427531e-01  4.6843794e-01 ... -1.4077097e-01\n",
      "   -2.6568234e-01  4.5211998e-01]\n",
      "  [ 8.0942981e-02  1.1583895e-01 -1.5670605e-01 ... -2.6896143e-01\n",
      "    3.3871925e-01  1.1577199e-02]\n",
      "  [-7.8964382e-02  9.4927502e-01 -6.1804920e-01 ... -6.3055885e-01\n",
      "    3.0942994e-01  1.5378746e-01]\n",
      "  [-6.7808926e-02  9.7187601e-02 -3.6225462e-01 ...  7.7500239e-02\n",
      "   -6.1660964e-02  6.0047470e-02]\n",
      "  [-2.6177359e-04 -1.2609763e-01 -5.3394741e-01 ...  4.2921829e-01\n",
      "    1.2804615e-01  5.3191930e-01]\n",
      "  [-2.8408406e-02 -4.3532155e-02  4.1301623e-02 ...  2.5831681e-02\n",
      "   -1.4298355e-02 -1.6504223e-02]]]\n"
     ]
    }
   ],
   "source": [
    "print(elmo_embedding_after)"
   ]
  },
  {
   "cell_type": "code",
   "execution_count": null,
   "id": "13f3ebb9",
   "metadata": {},
   "outputs": [],
   "source": []
  }
 ],
 "metadata": {
  "kernelspec": {
   "display_name": "Python 3",
   "language": "python",
   "name": "python3"
  },
  "language_info": {
   "codemirror_mode": {
    "name": "ipython",
    "version": 3
   },
   "file_extension": ".py",
   "mimetype": "text/x-python",
   "name": "python",
   "nbconvert_exporter": "python",
   "pygments_lexer": "ipython3",
   "version": "3.8.10"
  }
 },
 "nbformat": 4,
 "nbformat_minor": 5
}
