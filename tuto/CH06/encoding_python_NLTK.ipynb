{
 "cells": [
  {
   "cell_type": "markdown",
   "id": "191e523e",
   "metadata": {},
   "source": [
    "# Word representation using NLTK\n",
    "\n",
    "https://www.nltk.org/howto/wordnet.html"
   ]
  },
  {
   "cell_type": "markdown",
   "id": "b43426d4",
   "metadata": {},
   "source": [
    "## I. WordNet"
   ]
  },
  {
   "cell_type": "code",
   "execution_count": 1,
   "id": "0b20c43e",
   "metadata": {},
   "outputs": [
    {
     "data": {
      "text/plain": [
       "<WordNetCorpusReader in '/home/kariminf/Data/NLTK/corpora/wordnet'>"
      ]
     },
     "execution_count": 1,
     "metadata": {},
     "output_type": "execute_result"
    }
   ],
   "source": [
    "from nltk.corpus import wordnet as wn\n",
    "\n",
    "wn"
   ]
  },
  {
   "cell_type": "markdown",
   "id": "596c04ca",
   "metadata": {},
   "source": [
    "### I.1. Synsets"
   ]
  },
  {
   "cell_type": "code",
   "execution_count": 2,
   "id": "b8ac0c98",
   "metadata": {},
   "outputs": [
    {
     "data": {
      "text/plain": [
       "[Synset('fish.n.01'),\n",
       " Synset('fish.n.02'),\n",
       " Synset('pisces.n.02'),\n",
       " Synset('pisces.n.01'),\n",
       " Synset('fish.v.01'),\n",
       " Synset('fish.v.02')]"
      ]
     },
     "execution_count": 2,
     "metadata": {},
     "output_type": "execute_result"
    }
   ],
   "source": [
    "wn.synsets('fish')"
   ]
  },
  {
   "cell_type": "code",
   "execution_count": 3,
   "id": "2425ba22",
   "metadata": {},
   "outputs": [
    {
     "data": {
      "text/plain": [
       "[Synset('fish.v.01'), Synset('fish.v.02')]"
      ]
     },
     "execution_count": 3,
     "metadata": {},
     "output_type": "execute_result"
    }
   ],
   "source": [
    "wn.synsets('fish', pos=wn.VERB)"
   ]
  },
  {
   "cell_type": "code",
   "execution_count": 4,
   "id": "c4fadb38",
   "metadata": {},
   "outputs": [
    {
     "data": {
      "text/plain": [
       "Synset('fish.v.01')"
      ]
     },
     "execution_count": 4,
     "metadata": {},
     "output_type": "execute_result"
    }
   ],
   "source": [
    "wn.synset('fish.v.01')"
   ]
  },
  {
   "cell_type": "code",
   "execution_count": 5,
   "id": "320db0ca",
   "metadata": {},
   "outputs": [
    {
     "name": "stdout",
     "output_type": "stream",
     "text": [
      "Key not found\n"
     ]
    }
   ],
   "source": [
    "from nltk.corpus.reader.wordnet import WordNetError\n",
    "try:\n",
    "    wn.synset('blablabla.v.01')\n",
    "except WordNetError as e:\n",
    "    print('Key not found')"
   ]
  },
  {
   "cell_type": "markdown",
   "id": "9aea842a",
   "metadata": {},
   "source": [
    "### I.2. SynSet properties and relations"
   ]
  },
  {
   "cell_type": "code",
   "execution_count": 6,
   "id": "5a93bbf8",
   "metadata": {},
   "outputs": [
    {
     "data": {
      "text/plain": [
       "'a member of the genus Canis (probably descended from the common wolf) that has been domesticated by man since prehistoric times; occurs in many breeds'"
      ]
     },
     "execution_count": 6,
     "metadata": {},
     "output_type": "execute_result"
    }
   ],
   "source": [
    "dog = wn.synset('dog.n.01')\n",
    "\n",
    "dog.definition()"
   ]
  },
  {
   "cell_type": "code",
   "execution_count": 7,
   "id": "8f61ff6c",
   "metadata": {},
   "outputs": [
    {
     "data": {
      "text/plain": [
       "'n'"
      ]
     },
     "execution_count": 7,
     "metadata": {},
     "output_type": "execute_result"
    }
   ],
   "source": [
    "dog.pos()"
   ]
  },
  {
   "cell_type": "code",
   "execution_count": 8,
   "id": "45b705f0",
   "metadata": {},
   "outputs": [
    {
     "data": {
      "text/plain": [
       "2084071"
      ]
     },
     "execution_count": 8,
     "metadata": {},
     "output_type": "execute_result"
    }
   ],
   "source": [
    "dog.offset()"
   ]
  },
  {
   "cell_type": "code",
   "execution_count": 9,
   "id": "8c941230",
   "metadata": {},
   "outputs": [
    {
     "data": {
      "text/plain": [
       "['the dog barked all night']"
      ]
     },
     "execution_count": 9,
     "metadata": {},
     "output_type": "execute_result"
    }
   ],
   "source": [
    "dog.examples()"
   ]
  },
  {
   "cell_type": "code",
   "execution_count": 10,
   "id": "145cb99c",
   "metadata": {},
   "outputs": [
    {
     "data": {
      "text/plain": [
       "[Lemma('dog.n.01.dog'),\n",
       " Lemma('dog.n.01.domestic_dog'),\n",
       " Lemma('dog.n.01.Canis_familiaris')]"
      ]
     },
     "execution_count": 10,
     "metadata": {},
     "output_type": "execute_result"
    }
   ],
   "source": [
    "dog.lemmas()"
   ]
  },
  {
   "cell_type": "code",
   "execution_count": 11,
   "id": "2d84eae5",
   "metadata": {},
   "outputs": [
    {
     "data": {
      "text/plain": [
       "[Synset('canine.n.02'), Synset('domestic_animal.n.01')]"
      ]
     },
     "execution_count": 11,
     "metadata": {},
     "output_type": "execute_result"
    }
   ],
   "source": [
    "dog.hypernyms()"
   ]
  },
  {
   "cell_type": "code",
   "execution_count": 12,
   "id": "17e461f2",
   "metadata": {},
   "outputs": [
    {
     "data": {
      "text/plain": [
       "[Synset('basenji.n.01'),\n",
       " Synset('corgi.n.01'),\n",
       " Synset('cur.n.01'),\n",
       " Synset('dalmatian.n.02'),\n",
       " Synset('great_pyrenees.n.01'),\n",
       " Synset('griffon.n.02'),\n",
       " Synset('hunting_dog.n.01'),\n",
       " Synset('lapdog.n.01'),\n",
       " Synset('leonberg.n.01'),\n",
       " Synset('mexican_hairless.n.01'),\n",
       " Synset('newfoundland.n.01'),\n",
       " Synset('pooch.n.01'),\n",
       " Synset('poodle.n.01'),\n",
       " Synset('pug.n.01'),\n",
       " Synset('puppy.n.01'),\n",
       " Synset('spitz.n.01'),\n",
       " Synset('toy_dog.n.01'),\n",
       " Synset('working_dog.n.01')]"
      ]
     },
     "execution_count": 12,
     "metadata": {},
     "output_type": "execute_result"
    }
   ],
   "source": [
    "dog.hyponyms()"
   ]
  },
  {
   "cell_type": "code",
   "execution_count": 13,
   "id": "a7e5ea65",
   "metadata": {},
   "outputs": [
    {
     "data": {
      "text/plain": [
       "[Synset('canis.n.01'), Synset('pack.n.06')]"
      ]
     },
     "execution_count": 13,
     "metadata": {},
     "output_type": "execute_result"
    }
   ],
   "source": [
    "dog.member_holonyms()"
   ]
  },
  {
   "cell_type": "code",
   "execution_count": 14,
   "id": "574aeb94",
   "metadata": {},
   "outputs": [
    {
     "data": {
      "text/plain": [
       "[Synset('entity.n.01')]"
      ]
     },
     "execution_count": 14,
     "metadata": {},
     "output_type": "execute_result"
    }
   ],
   "source": [
    "dog.root_hypernyms()"
   ]
  },
  {
   "cell_type": "markdown",
   "id": "2d4a50f1",
   "metadata": {},
   "source": [
    "### I.3. Lemma relations"
   ]
  },
  {
   "cell_type": "code",
   "execution_count": 15,
   "id": "7c480e91",
   "metadata": {},
   "outputs": [
    {
     "data": {
      "text/plain": [
       "Lemma('reason.n.01.reason')"
      ]
     },
     "execution_count": 15,
     "metadata": {},
     "output_type": "execute_result"
    }
   ],
   "source": [
    "reason_lemma = wn.synset('reason.n.01').lemmas()[0]\n",
    "\n",
    "reason_lemma"
   ]
  },
  {
   "cell_type": "code",
   "execution_count": 16,
   "id": "53434cee",
   "metadata": {},
   "outputs": [
    {
     "data": {
      "text/plain": [
       "Lemma('reason.n.01.reason')"
      ]
     },
     "execution_count": 16,
     "metadata": {},
     "output_type": "execute_result"
    }
   ],
   "source": [
    "reason_lemma2 = wn.lemma('reason.n.01.reason')\n",
    "\n",
    "reason_lemma2"
   ]
  },
  {
   "cell_type": "code",
   "execution_count": 17,
   "id": "78c56dcd",
   "metadata": {},
   "outputs": [
    {
     "data": {
      "text/plain": [
       "Synset('reason.n.01')"
      ]
     },
     "execution_count": 17,
     "metadata": {},
     "output_type": "execute_result"
    }
   ],
   "source": [
    "reason_lemma.synset()"
   ]
  },
  {
   "cell_type": "code",
   "execution_count": 18,
   "id": "618cd385",
   "metadata": {},
   "outputs": [
    {
     "data": {
      "text/plain": [
       "76"
      ]
     },
     "execution_count": 18,
     "metadata": {},
     "output_type": "execute_result"
    }
   ],
   "source": [
    "reason_lemma.count()"
   ]
  },
  {
   "cell_type": "code",
   "execution_count": 19,
   "id": "91a0b3ff",
   "metadata": {},
   "outputs": [
    {
     "data": {
      "text/plain": [
       "[Lemma('work.v.02.work'), Lemma('work.v.01.work')]"
      ]
     },
     "execution_count": 19,
     "metadata": {},
     "output_type": "execute_result"
    }
   ],
   "source": [
    "worker = wn.lemma('worker.n.01.worker')\n",
    "\n",
    "worker.derivationally_related_forms()"
   ]
  },
  {
   "cell_type": "code",
   "execution_count": 20,
   "id": "6daa96ba",
   "metadata": {},
   "outputs": [
    {
     "data": {
      "text/plain": [
       "[Lemma('voice.n.02.voice')]"
      ]
     },
     "execution_count": 20,
     "metadata": {},
     "output_type": "execute_result"
    }
   ],
   "source": [
    "# of-relation\n",
    "wn.lemma('vocal.a.01.vocal').pertainyms()"
   ]
  },
  {
   "cell_type": "code",
   "execution_count": 21,
   "id": "ee7680eb",
   "metadata": {},
   "outputs": [
    {
     "data": {
      "text/plain": [
       "[Lemma('nonworker.n.01.nonworker')]"
      ]
     },
     "execution_count": 21,
     "metadata": {},
     "output_type": "execute_result"
    }
   ],
   "source": [
    "# not-relation\n",
    "worker.antonyms()"
   ]
  },
  {
   "cell_type": "code",
   "execution_count": 22,
   "id": "01a617f6",
   "metadata": {},
   "outputs": [
    {
     "data": {
      "text/plain": [
       "[Synset('chew.v.01'), Synset('swallow.v.01')]"
      ]
     },
     "execution_count": 22,
     "metadata": {},
     "output_type": "execute_result"
    }
   ],
   "source": [
    "# imply-relation\n",
    "wn.synset('eat.v.01').entailments()"
   ]
  },
  {
   "cell_type": "markdown",
   "id": "a2315a6e",
   "metadata": {},
   "source": [
    "## II. Operations"
   ]
  },
  {
   "cell_type": "code",
   "execution_count": 23,
   "id": "2c222400",
   "metadata": {},
   "outputs": [
    {
     "data": {
      "text/plain": [
       "(Synset('dog.n.01'), Synset('cat.n.01'))"
      ]
     },
     "execution_count": 23,
     "metadata": {},
     "output_type": "execute_result"
    }
   ],
   "source": [
    "a_dog = wn.synset('dog.n.01')\n",
    "a_cat = wn.synset('cat.n.01')\n",
    "\n",
    "a_dog, a_cat"
   ]
  },
  {
   "cell_type": "markdown",
   "id": "f145a27f",
   "metadata": {},
   "source": [
    "### II.1. Lowest Common Hypernyms"
   ]
  },
  {
   "cell_type": "code",
   "execution_count": 24,
   "id": "00f1b2ce",
   "metadata": {},
   "outputs": [
    {
     "data": {
      "text/plain": [
       "[Synset('carnivore.n.01')]"
      ]
     },
     "execution_count": 24,
     "metadata": {},
     "output_type": "execute_result"
    }
   ],
   "source": [
    "a_dog.lowest_common_hypernyms(a_cat)"
   ]
  },
  {
   "cell_type": "markdown",
   "id": "6a4b5a7d",
   "metadata": {},
   "source": [
    "### II.2. Similarity"
   ]
  },
  {
   "cell_type": "code",
   "execution_count": 25,
   "id": "7f1d3a86",
   "metadata": {},
   "outputs": [
    {
     "data": {
      "text/plain": [
       "0.2"
      ]
     },
     "execution_count": 25,
     "metadata": {},
     "output_type": "execute_result"
    }
   ],
   "source": [
    "# based on \"is-a\" relation\n",
    "a_dog.path_similarity(a_cat)"
   ]
  },
  {
   "cell_type": "code",
   "execution_count": 26,
   "id": "d419fbf5",
   "metadata": {},
   "outputs": [
    {
     "data": {
      "text/plain": [
       "2.0281482472922856"
      ]
     },
     "execution_count": 26,
     "metadata": {},
     "output_type": "execute_result"
    }
   ],
   "source": [
    "#  Leacock-Chodorow Similarity\n",
    "a_dog.lch_similarity(a_cat)"
   ]
  },
  {
   "cell_type": "code",
   "execution_count": 27,
   "id": "402c15ce",
   "metadata": {},
   "outputs": [
    {
     "data": {
      "text/plain": [
       "0.8571428571428571"
      ]
     },
     "execution_count": 27,
     "metadata": {},
     "output_type": "execute_result"
    }
   ],
   "source": [
    "# Wu-Palmer Similarity\n",
    "a_dog.wup_similarity(a_cat)"
   ]
  },
  {
   "cell_type": "code",
   "execution_count": 28,
   "id": "c666a7b2",
   "metadata": {},
   "outputs": [
    {
     "data": {
      "text/plain": [
       "7.911666509036577"
      ]
     },
     "execution_count": 28,
     "metadata": {},
     "output_type": "execute_result"
    }
   ],
   "source": [
    "# Resnik Similarity\n",
    "from nltk.corpus import wordnet_ic\n",
    "brown_ic = wordnet_ic.ic('ic-brown.dat')\n",
    "a_dog.res_similarity(a_cat, brown_ic)"
   ]
  },
  {
   "cell_type": "code",
   "execution_count": 29,
   "id": "350982ea",
   "metadata": {},
   "outputs": [
    {
     "data": {
      "text/plain": [
       "0.4497755285516739"
      ]
     },
     "execution_count": 29,
     "metadata": {},
     "output_type": "execute_result"
    }
   ],
   "source": [
    "a_dog.jcn_similarity(a_cat, brown_ic)"
   ]
  },
  {
   "cell_type": "code",
   "execution_count": 30,
   "id": "549ce238",
   "metadata": {},
   "outputs": [
    {
     "data": {
      "text/plain": [
       "0.8768009843733973"
      ]
     },
     "execution_count": 30,
     "metadata": {},
     "output_type": "execute_result"
    }
   ],
   "source": [
    "a_dog.lin_similarity(a_cat, brown_ic)"
   ]
  },
  {
   "cell_type": "markdown",
   "id": "ed0f6644",
   "metadata": {},
   "source": [
    "## III. Multilingual WordNet"
   ]
  },
  {
   "cell_type": "code",
   "execution_count": 31,
   "id": "e990b619",
   "metadata": {},
   "outputs": [
    {
     "data": {
      "text/plain": [
       "['als',\n",
       " 'arb',\n",
       " 'bul',\n",
       " 'cat',\n",
       " 'cmn',\n",
       " 'dan',\n",
       " 'ell',\n",
       " 'eng',\n",
       " 'eus',\n",
       " 'fas',\n",
       " 'fin',\n",
       " 'fra',\n",
       " 'glg',\n",
       " 'heb',\n",
       " 'hrv',\n",
       " 'ind',\n",
       " 'ita',\n",
       " 'jpn',\n",
       " 'nno',\n",
       " 'nob',\n",
       " 'pol',\n",
       " 'por',\n",
       " 'qcn',\n",
       " 'slv',\n",
       " 'spa',\n",
       " 'swe',\n",
       " 'tha',\n",
       " 'zsm']"
      ]
     },
     "execution_count": 31,
     "metadata": {},
     "output_type": "execute_result"
    }
   ],
   "source": [
    "sorted(wn.langs())"
   ]
  },
  {
   "cell_type": "code",
   "execution_count": 32,
   "id": "f4b50b89",
   "metadata": {},
   "outputs": [
    {
     "data": {
      "text/plain": [
       "[Synset('dog.n.01'), Synset('spy.n.01')]"
      ]
     },
     "execution_count": 32,
     "metadata": {},
     "output_type": "execute_result"
    }
   ],
   "source": [
    "wn.synsets('犬', lang='jpn')"
   ]
  },
  {
   "cell_type": "code",
   "execution_count": 33,
   "id": "7f82c5e9",
   "metadata": {},
   "outputs": [
    {
     "data": {
      "text/plain": [
       "([], [Synset('dog.n.01')])"
      ]
     },
     "execution_count": 33,
     "metadata": {},
     "output_type": "execute_result"
    }
   ],
   "source": [
    "wn.synsets('كلب', lang='arb'), wn.synsets('كلْب', lang='arb')"
   ]
  },
  {
   "cell_type": "code",
   "execution_count": 34,
   "id": "62c3726b",
   "metadata": {},
   "outputs": [
    {
     "data": {
      "text/plain": [
       "['كلْب']"
      ]
     },
     "execution_count": 34,
     "metadata": {},
     "output_type": "execute_result"
    }
   ],
   "source": [
    "wn.synset('dog.n.01').lemma_names('arb')"
   ]
  },
  {
   "cell_type": "code",
   "execution_count": 35,
   "id": "36065da4",
   "metadata": {},
   "outputs": [
    {
     "data": {
      "text/plain": [
       "['جاسُوس', 'عمِيْل_سِرِّيّ', 'عيْن']"
      ]
     },
     "execution_count": 35,
     "metadata": {},
     "output_type": "execute_result"
    }
   ],
   "source": [
    "wn.synset('spy.n.01').lemma_names('arb')"
   ]
  },
  {
   "cell_type": "code",
   "execution_count": null,
   "id": "b6925eee",
   "metadata": {},
   "outputs": [],
   "source": []
  }
 ],
 "metadata": {
  "kernelspec": {
   "display_name": "Python 3",
   "language": "python",
   "name": "python3"
  },
  "language_info": {
   "codemirror_mode": {
    "name": "ipython",
    "version": 3
   },
   "file_extension": ".py",
   "mimetype": "text/x-python",
   "name": "python",
   "nbconvert_exporter": "python",
   "pygments_lexer": "ipython3",
   "version": "3.8.10"
  }
 },
 "nbformat": 4,
 "nbformat_minor": 5
}
