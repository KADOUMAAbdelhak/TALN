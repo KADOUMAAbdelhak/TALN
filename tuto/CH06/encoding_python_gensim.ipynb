{
 "cells": [
  {
   "cell_type": "markdown",
   "id": "191e523e",
   "metadata": {},
   "source": [
    "# Word representation using Scikit-learn"
   ]
  },
  {
   "cell_type": "code",
   "execution_count": 1,
   "id": "0b20c43e",
   "metadata": {},
   "outputs": [
    {
     "data": {
      "text/plain": [
       "array(['this is the first document',\n",
       "       'this document is the second document',\n",
       "       'this is the third one not the first nor the third',\n",
       "       'is this the first document or is is another document'],\n",
       "      dtype='<U52')"
      ]
     },
     "execution_count": 1,
     "metadata": {},
     "output_type": "execute_result"
    }
   ],
   "source": [
    "import numpy as np\n",
    "\n",
    "data = np.array([\n",
    "    'this is the first document',\n",
    "    'this document is the second document',\n",
    "    'this is the third one not the first nor the third',\n",
    "    'is this the first document or is is another document'\n",
    "])\n",
    "\n",
    "data"
   ]
  },
  {
   "cell_type": "code",
   "execution_count": 2,
   "id": "2f578b62",
   "metadata": {},
   "outputs": [
    {
     "data": {
      "text/plain": [
       "[['this', 'is', 'the', 'first', 'document'],\n",
       " ['this', 'document', 'is', 'the', 'second', 'document'],\n",
       " ['this',\n",
       "  'is',\n",
       "  'the',\n",
       "  'third',\n",
       "  'one',\n",
       "  'not',\n",
       "  'the',\n",
       "  'first',\n",
       "  'nor',\n",
       "  'the',\n",
       "  'third'],\n",
       " ['is',\n",
       "  'this',\n",
       "  'the',\n",
       "  'first',\n",
       "  'document',\n",
       "  'or',\n",
       "  'is',\n",
       "  'is',\n",
       "  'another',\n",
       "  'document']]"
      ]
     },
     "execution_count": 2,
     "metadata": {},
     "output_type": "execute_result"
    }
   ],
   "source": [
    "sentWords = [[word for word in sentence.split()] for sentence in data]\n",
    "\n",
    "sentWords"
   ]
  },
  {
   "cell_type": "markdown",
   "id": "8bb27751",
   "metadata": {},
   "source": [
    "## I. TF-IDF"
   ]
  },
  {
   "cell_type": "code",
   "execution_count": 3,
   "id": "77f316e8",
   "metadata": {},
   "outputs": [
    {
     "data": {
      "text/plain": [
       "[(0, 1), (2, 1), (3, 1), (4, 1)]"
      ]
     },
     "execution_count": 3,
     "metadata": {},
     "output_type": "execute_result"
    }
   ],
   "source": [
    "# train a dictionary from a corpus\n",
    "from gensim.corpora import Dictionary\n",
    "\n",
    "dct = Dictionary(sentWords)  # fit dictionary\n",
    "\n",
    "# (ID, count)\n",
    "dct.doc2bow([\"this\", \"is\", \"the\", \"document\", \"non_existent_word\"])"
   ]
  },
  {
   "cell_type": "code",
   "execution_count": 4,
   "id": "fde2014c",
   "metadata": {},
   "outputs": [
    {
     "data": {
      "text/plain": [
       "<gensim.models.tfidfmodel.TfidfModel at 0x7fe7b2ade940>"
      ]
     },
     "execution_count": 4,
     "metadata": {},
     "output_type": "execute_result"
    }
   ],
   "source": [
    "from gensim.models import TfidfModel\n",
    "\n",
    "corpus = [dct.doc2bow(doc) for doc in sentWords]  # convert corpus to BoW format\n",
    "model = TfidfModel(corpus)  # fit model\n",
    "model"
   ]
  },
  {
   "cell_type": "code",
   "execution_count": 5,
   "id": "5912f229",
   "metadata": {},
   "outputs": [
    {
     "data": {
      "text/plain": [
       "[(0, 0.7071067811865476), (1, 0.7071067811865476)]"
      ]
     },
     "execution_count": 5,
     "metadata": {},
     "output_type": "execute_result"
    }
   ],
   "source": [
    "vector = model[corpus[0]]  # apply model to the first corpus document\n",
    "vector"
   ]
  },
  {
   "cell_type": "markdown",
   "id": "2a9e6660",
   "metadata": {},
   "source": [
    "## II. LSA"
   ]
  },
  {
   "cell_type": "code",
   "execution_count": 6,
   "id": "f1728ad0",
   "metadata": {},
   "outputs": [
    {
     "data": {
      "text/plain": [
       "<gensim.models.lsimodel.LsiModel at 0x7fe7dccfa8e0>"
      ]
     },
     "execution_count": 6,
     "metadata": {},
     "output_type": "execute_result"
    }
   ],
   "source": [
    "from gensim.models import LsiModel\n",
    "\n",
    "lsa_model = LsiModel(corpus, num_topics=3, id2word=dct)\n",
    "\n",
    "lsa_model"
   ]
  },
  {
   "cell_type": "code",
   "execution_count": 7,
   "id": "8603cf32",
   "metadata": {},
   "outputs": [
    {
     "data": {
      "text/plain": [
       "array([[ 0.40414174, -0.48828482,  0.43929742],\n",
       "       [ 0.26324215,  0.06153243, -0.2836474 ],\n",
       "       [ 0.54361713, -0.31896294, -0.41302551],\n",
       "       [ 0.52112281,  0.45620371,  0.18601684],\n",
       "       [ 0.32806837, -0.01958453,  0.22758559],\n",
       "       [ 0.06482621, -0.08111696,  0.51123299],\n",
       "       [ 0.09652722,  0.23789412, -0.02078438],\n",
       "       [ 0.09652722,  0.23789412, -0.02078438],\n",
       "       [ 0.09652722,  0.23789412, -0.02078438],\n",
       "       [ 0.19305444,  0.47578824, -0.04156876],\n",
       "       [ 0.10777438, -0.14968921, -0.32030555],\n",
       "       [ 0.10777438, -0.14968921, -0.32030555]])"
      ]
     },
     "execution_count": 7,
     "metadata": {},
     "output_type": "execute_result"
    }
   ],
   "source": [
    "# U: Terms X Concepts matrix \n",
    "lsa_model.projection.u"
   ]
  },
  {
   "cell_type": "code",
   "execution_count": 8,
   "id": "c4e7145e",
   "metadata": {},
   "outputs": [
    {
     "data": {
      "text/plain": [
       "array([5.91216815, 3.40420027, 1.6491539 ])"
      ]
     },
     "execution_count": 8,
     "metadata": {},
     "output_type": "execute_result"
    }
   ],
   "source": [
    "# S: Concepts X Concepts\n",
    "lsa_model.projection.s"
   ]
  },
  {
   "cell_type": "code",
   "execution_count": 9,
   "id": "c98f1c78",
   "metadata": {},
   "outputs": [
    {
     "name": "stdout",
     "output_type": "stream",
     "text": [
      "[(0, 2.0601921988067566), (1, -0.3090961544608346), (2, 0.15622694457256267)]\n",
      "[(0, 2.2659179935801155), (1, -0.9400303667833381), (2, 1.3904047535449264)]\n",
      "[(0, 3.373986613846059), (1, 2.756854907321676), (2, -0.056527454365849425)]\n",
      "[(0, 3.7671169748912425), (1, -1.7346852748315205), (2, -0.8711377505388352)]\n"
     ]
    }
   ],
   "source": [
    "# D: Documents X Concepts\n",
    "D = lsa_model[corpus]\n",
    "\n",
    "for d in D:\n",
    "    print(d)"
   ]
  },
  {
   "cell_type": "code",
   "execution_count": 10,
   "id": "a08a070d",
   "metadata": {},
   "outputs": [
    {
     "data": {
      "text/plain": [
       "[('is', 0.5436171339274469),\n",
       " ('the', 0.521122805794372),\n",
       " ('document', 0.4041417393082777),\n",
       " ('this', 0.3280683650061333),\n",
       " ('first', 0.2632421547705262),\n",
       " ('third', 0.19305444078823875),\n",
       " ('another', 0.10777438446065689),\n",
       " ('or', 0.10777438446065689),\n",
       " ('nor', 0.09652722039411941),\n",
       " ('not', 0.09652722039411939)]"
      ]
     },
     "execution_count": 10,
     "metadata": {},
     "output_type": "execute_result"
    }
   ],
   "source": [
    "# show the first topic\n",
    "lsa_model.show_topic(0)"
   ]
  },
  {
   "cell_type": "markdown",
   "id": "b4f3d5b9",
   "metadata": {},
   "source": [
    "## III. LDA"
   ]
  },
  {
   "cell_type": "code",
   "execution_count": 11,
   "id": "d2d013de",
   "metadata": {},
   "outputs": [
    {
     "data": {
      "text/plain": [
       "<gensim.models.ldamodel.LdaModel at 0x7fe7b2212e20>"
      ]
     },
     "execution_count": 11,
     "metadata": {},
     "output_type": "execute_result"
    }
   ],
   "source": [
    "from gensim.models.ldamodel import LdaModel\n",
    "\n",
    "lda = LdaModel(corpus=corpus, id2word=dct, num_topics=4, update_every=1, chunksize=100, passes=1)\n",
    "lda"
   ]
  },
  {
   "cell_type": "code",
   "execution_count": 12,
   "id": "b71345c3",
   "metadata": {},
   "outputs": [
    {
     "data": {
      "text/plain": [
       "[(0, 1), (2, 1), (3, 1), (4, 1), (5, 1), (7, 1), (9, 2), (11, 1)]"
      ]
     },
     "execution_count": 12,
     "metadata": {},
     "output_type": "execute_result"
    }
   ],
   "source": [
    "# use LDA model: transform new doc to bag-of-words, then apply lda\n",
    "doc_bow = dct.doc2bow([\"this\", \"is\", \"not\", \"the\", \"third\", \"second\", \"or\", \"third\", \"document\"])\n",
    "doc_bow"
   ]
  },
  {
   "cell_type": "code",
   "execution_count": 13,
   "id": "dd3a474c",
   "metadata": {},
   "outputs": [
    {
     "data": {
      "text/plain": [
       "[(0, 0.45403457), (1, 0.30465317), (2, 0.21605769), (3, 0.025254535)]"
      ]
     },
     "execution_count": 13,
     "metadata": {},
     "output_type": "execute_result"
    }
   ],
   "source": [
    "doc_lda = lda[doc_bow]\n",
    "# doc_lda is vector of length num_topics representing weighted presence of each topic in the doc\n",
    "doc_lda"
   ]
  },
  {
   "cell_type": "markdown",
   "id": "03ba256f",
   "metadata": {},
   "source": [
    "## IV. Word2Vec"
   ]
  },
  {
   "cell_type": "code",
   "execution_count": 14,
   "id": "fbb7c7ee",
   "metadata": {},
   "outputs": [
    {
     "data": {
      "text/plain": [
       "<gensim.models.keyedvectors.KeyedVectors at 0x7fe7f82b9af0>"
      ]
     },
     "execution_count": 14,
     "metadata": {},
     "output_type": "execute_result"
    }
   ],
   "source": [
    "from gensim.models import Word2Vec\n",
    "\n",
    "model_w2v= Word2Vec(sentences=sentWords, vector_size=4, window=3, epochs=20, min_count=1)\n",
    "word_vectors = model_w2v.wv\n",
    "\n",
    "word_vectors"
   ]
  },
  {
   "cell_type": "code",
   "execution_count": 15,
   "id": "2d729c75",
   "metadata": {},
   "outputs": [
    {
     "data": {
      "text/plain": [
       "{'the': 0,\n",
       " 'is': 1,\n",
       " 'document': 2,\n",
       " 'this': 3,\n",
       " 'first': 4,\n",
       " 'third': 5,\n",
       " 'another': 6,\n",
       " 'or': 7,\n",
       " 'nor': 8,\n",
       " 'not': 9,\n",
       " 'one': 10,\n",
       " 'second': 11}"
      ]
     },
     "execution_count": 15,
     "metadata": {},
     "output_type": "execute_result"
    }
   ],
   "source": [
    "# vocabulary\n",
    "word_vectors.key_to_index"
   ]
  },
  {
   "cell_type": "code",
   "execution_count": 16,
   "id": "a6e51559",
   "metadata": {},
   "outputs": [
    {
     "data": {
      "text/plain": [
       "array([ 0.07200756,  0.02396637, -0.20704502, -0.23569417], dtype=float32)"
      ]
     },
     "execution_count": 16,
     "metadata": {},
     "output_type": "execute_result"
    }
   ],
   "source": [
    "# get embedding: method1\n",
    "word_vectors[\"first\"]"
   ]
  },
  {
   "cell_type": "code",
   "execution_count": 17,
   "id": "f934b8ee",
   "metadata": {},
   "outputs": [
    {
     "data": {
      "text/plain": [
       "array([-0.1260561 , -0.09467296,  0.1847378 , -0.03786594], dtype=float32)"
      ]
     },
     "execution_count": 17,
     "metadata": {},
     "output_type": "execute_result"
    }
   ],
   "source": [
    "# get embedding: method2\n",
    "word_vectors.get_vector(\"document\")"
   ]
  },
  {
   "cell_type": "code",
   "execution_count": 18,
   "id": "7efca255",
   "metadata": {},
   "outputs": [
    {
     "data": {
      "text/plain": [
       "1.5126422047615051"
      ]
     },
     "execution_count": 18,
     "metadata": {},
     "output_type": "execute_result"
    }
   ],
   "source": [
    "# cosine similarity\n",
    "word_vectors.distance(\"first\",\"document\")"
   ]
  },
  {
   "cell_type": "code",
   "execution_count": 19,
   "id": "af9af064",
   "metadata": {},
   "outputs": [],
   "source": [
    "# save the word2vec model\n",
    "w2vpath = '/home/kariminf/Data/tutoriel/gensim_word2vec.model'\n",
    "model_w2v.save(w2vpath)"
   ]
  },
  {
   "cell_type": "code",
   "execution_count": 20,
   "id": "5cc2961e",
   "metadata": {},
   "outputs": [
    {
     "data": {
      "text/plain": [
       "[('nor', 0.6649483442306519),\n",
       " ('second', 0.5571070313453674),\n",
       " ('the', 0.4490523636341095),\n",
       " ('not', 0.4280834197998047),\n",
       " ('third', 0.2622111737728119)]"
      ]
     },
     "execution_count": 20,
     "metadata": {},
     "output_type": "execute_result"
    }
   ],
   "source": [
    "# récupérer un modèle sauvegardé\n",
    "model2 = Word2Vec.load(w2vpath)\n",
    "\n",
    "# search the top 5 similar words to another\n",
    "word = \"another\"\n",
    "sim_words = []\n",
    "if word in model2.wv: # tester si le mot existe dans la vocabulaire\n",
    "    sim_words = model2.wv.most_similar(word, topn=5)\n",
    "sim_words"
   ]
  },
  {
   "cell_type": "markdown",
   "id": "25404c28",
   "metadata": {},
   "source": [
    "## V. Fasttext"
   ]
  },
  {
   "cell_type": "code",
   "execution_count": 21,
   "id": "88dc7670",
   "metadata": {},
   "outputs": [
    {
     "data": {
      "text/plain": [
       "<gensim.models.fasttext.FastText at 0x7fe7b2ade6a0>"
      ]
     },
     "execution_count": 21,
     "metadata": {},
     "output_type": "execute_result"
    }
   ],
   "source": [
    "from gensim.models import FastText\n",
    "\n",
    "fasttext_model = FastText(vector_size=4, window=3, min_count=1, sentences=sentWords, epochs=10)\n",
    "\n",
    "fasttext_model"
   ]
  },
  {
   "cell_type": "code",
   "execution_count": 22,
   "id": "d43a997a",
   "metadata": {},
   "outputs": [
    {
     "data": {
      "text/plain": [
       "array([-0.03808689, -0.01358647,  0.02698918,  0.08353347], dtype=float32)"
      ]
     },
     "execution_count": 22,
     "metadata": {},
     "output_type": "execute_result"
    }
   ],
   "source": [
    "fasttext_model.wv['karim']"
   ]
  },
  {
   "cell_type": "code",
   "execution_count": 23,
   "id": "6ba68487",
   "metadata": {},
   "outputs": [
    {
     "data": {
      "text/plain": [
       "array([ 0.02423025,  0.00086855, -0.00287357,  0.01489758], dtype=float32)"
      ]
     },
     "execution_count": 23,
     "metadata": {},
     "output_type": "execute_result"
    }
   ],
   "source": [
    "fasttext_model.wv['document']"
   ]
  },
  {
   "cell_type": "code",
   "execution_count": null,
   "id": "8c733dc1",
   "metadata": {},
   "outputs": [],
   "source": []
  }
 ],
 "metadata": {
  "kernelspec": {
   "display_name": "Python 3",
   "language": "python",
   "name": "python3"
  },
  "language_info": {
   "codemirror_mode": {
    "name": "ipython",
    "version": 3
   },
   "file_extension": ".py",
   "mimetype": "text/x-python",
   "name": "python",
   "nbconvert_exporter": "python",
   "pygments_lexer": "ipython3",
   "version": "3.8.10"
  }
 },
 "nbformat": 4,
 "nbformat_minor": 5
}
