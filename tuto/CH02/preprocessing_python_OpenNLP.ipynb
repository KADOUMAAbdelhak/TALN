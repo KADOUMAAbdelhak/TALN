{
 "cells": [
  {
   "cell_type": "markdown",
   "id": "87f7f433",
   "metadata": {},
   "source": [
    "# Text preprocessing using OpenNLP"
   ]
  },
  {
   "cell_type": "code",
   "execution_count": 4,
   "id": "1927a165",
   "metadata": {},
   "outputs": [],
   "source": [
    "%%pom\n",
    "dependencies:\n",
    "    - org.apache.opennlp:opennlp-tools:1.9.3"
   ]
  },
  {
   "cell_type": "code",
   "execution_count": 5,
   "id": "399fa0dd",
   "metadata": {},
   "outputs": [],
   "source": []
  },
  {
   "cell_type": "code",
   "execution_count": null,
   "id": "32924c6c",
   "metadata": {},
   "outputs": [],
   "source": []
  }
 ],
 "metadata": {
  "kernelspec": {
   "display_name": "Ganymede 1.1.0.20210614 (Java 11)",
   "language": "java",
   "name": "ganymede-1.1.0.20210614-java-11"
  },
  "language_info": {
   "file_extension": ".java",
   "mimetype": "text/x-java",
   "name": "java",
   "version": "11"
  }
 },
 "nbformat": 4,
 "nbformat_minor": 5
}
