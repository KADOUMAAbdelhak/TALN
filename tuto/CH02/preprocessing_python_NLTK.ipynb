{
 "cells": [
  {
   "cell_type": "markdown",
   "id": "4f1f4c19",
   "metadata": {},
   "source": [
    "# Text preprocessing using NLTK"
   ]
  },
  {
   "cell_type": "markdown",
   "id": "d04b214d",
   "metadata": {},
   "source": [
    "## Text tokenization\n",
    "\n",
    "https://www.nltk.org/api/nltk.tokenize.html\n",
    "\n",
    "## Sentence tokenization"
   ]
  },
  {
   "cell_type": "code",
   "execution_count": 2,
   "id": "af7031ea",
   "metadata": {},
   "outputs": [
    {
     "data": {
      "text/plain": [
       "['This is a text written by Mr. Aries.',\n",
       " 'It uses U.S. english to illustrate sentence tokenization.']"
      ]
     },
     "execution_count": 2,
     "metadata": {},
     "output_type": "execute_result"
    }
   ],
   "source": [
    "from nltk.tokenize import sent_tokenize\n",
    "text = 'This is a text written by Mr. Aries. It uses U.S. english to illustrate sentence tokenization.'\n",
    "\n",
    "sents = sent_tokenize(text)\n",
    "sents"
   ]
  },
  {
   "cell_type": "code",
   "execution_count": 4,
   "id": "f34723d4",
   "metadata": {},
   "outputs": [
    {
     "data": {
      "text/plain": [
       "['Ce texte est \\xc3\\xa9crit par M. Aries.',\n",
       " \"Il a comme but d'illustrer la segmentation d'un texte en fran\\xc3\\xa7ais.\"]"
      ]
     },
     "execution_count": 4,
     "metadata": {},
     "output_type": "execute_result"
    }
   ],
   "source": [
    "fr_text = \"Ce texte est écrit par M. Aries. Il a comme but d'illustrer la segmentation d'un texte en français.\"\n",
    "fr_sents = sent_tokenize(fr_text, language='french')\n",
    "fr_sents"
   ]
  },
  {
   "cell_type": "markdown",
   "id": "9bf2427d",
   "metadata": {},
   "source": [
    "## Stemming\n",
    "\n",
    "https://www.nltk.org/api/nltk.stem.html\n"
   ]
  }
 ],
 "metadata": {
  "kernelspec": {
   "display_name": "Python 2",
   "language": "python",
   "name": "python2"
  },
  "language_info": {
   "codemirror_mode": {
    "name": "ipython",
    "version": 2
   },
   "file_extension": ".py",
   "mimetype": "text/x-python",
   "name": "python",
   "nbconvert_exporter": "python",
   "pygments_lexer": "ipython2",
   "version": "2.7.18"
  }
 },
 "nbformat": 4,
 "nbformat_minor": 5
}
